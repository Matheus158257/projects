{
 "cells": [
  {
   "cell_type": "markdown",
   "metadata": {
    "id": "Fi4s3f_Pcfi8"
   },
   "source": [
    "# Portuguese GloVe Embeddings Bag Sentence Classification - Experimento\n",
    "\n",
    "Este componente classifica sentenças baseado nos pacotes de Embeddings GloVe em português disponibilizados pelo [NILC](http://nilc.icmc.usp.br/nilc/index.php/repositorio-de-word-embeddings-do-nilc)\n",
    "Este notebook apresenta:\n",
    "- como usar o [SDK](https://platiagro.github.io/sdk/) para carregar datasets, salvar modelos e outros artefatos.\n",
    "- como declarar parâmetros e usá-los para criar componentes reutilizáveis."
   ]
  },
  {
   "cell_type": "markdown",
   "metadata": {
    "id": "VS0WZkTKcfi9"
   },
   "source": [
    "## Declare parâmetros e hiperparâmetros para o modelo\n",
    "Os componentes podem declarar (e usar) estes parâmetros como padrão:\n",
    "- dataset\n",
    "- target\n",
    "\n",
    "Use estes parâmetros para carregar/salvar conjutos de dados, modelos, métricas e figuras com a ajuda do [SDK da PlatIAgro](https://platiagro.github.io/sdk/). <br>\n",
    "É possível também declarar parâmetros personalizados para serem definidos ao executar um experimento. \n",
    "\n",
    "Selecione os hiperparâmetros e seus respectivos valores para serem usados ao treinar o modelo:\n",
    "- language\n",
    "\n",
    "Estes parâmetros são alguns dos oferecidos pela classe do modelo, você também pode utilizar outros existentes. <br>\n",
    "Dê uma olhada nos [parâmetros do modelo](https://scikit-learn.org/stable/modules/generated/sklearn.impute.SimpleImputer.html#sklearn-impute-simpleimputer) para mais informações."
   ]
  },
  {
   "cell_type": "code",
   "execution_count": 8,
   "metadata": {
    "id": "3F2NzQcfcfi_",
    "tags": [
     "parameters"
    ]
   },
   "outputs": [],
   "source": [
    "# parâmetros\n",
    "dataset = \"/tmp/data/jira-2.csv\" #@param {type:\"string\"}\n",
    "target = \"issuetype\" #@param {type:\"string\", label:\"Atributo alvo\", description:\"Seu modelo será treinado para prever os valores do alvo.\"}\n",
    "language = \"portuguese\" #@param [\"portuguese\", \"english\"] {type:\"string\", label:\"Linguagem\", description:\"Linguagem da qual os stopwords pertencem. Deve ser a mesma utilizada no dataset.\"}\n",
    "\n",
    "#Hyperparâametros\n",
    "train_batch_size = 10 #@param {type:\"integer\"}\n",
    "eval_batch_size = 2 #@param {type:\"integer\"}\n",
    "max_epochs = 200 #@param {type:\"integer\"}\n",
    "accumulate_grad_batches = 1  #@param {type:\"integer\"}\n",
    "learning_rate = 0.12 #@param {type:\"number\"}\n",
    "seed =7 #@param {type:\"integer\"}\n",
    "hidden_dim  =300 #@param {type:\"integer\"}\n",
    "\n",
    "# selected features to perform the model\n",
    "filter_type = \"incluir\" #@param ['incluir','remover']  {type:\"string\",label:\"Modo de seleção das features\", description:\"Se deseja informar quais features deseja incluir no modelo, selecione a opção [incluir]. Caso deseje informar as features que não devem ser utilizadas, selecione [remover]. \"}\n",
    "model_features = \"description\" #@param {type:\"string\",multiple:true,label:\"Features para incluir/remover no modelo\",description:\"Seu modelo será feito considerando apenas as features selecionadas. Caso nada seja especificado, todas as features serão utilizadas\"}\n",
    "\n",
    "# preprocessamento\n",
    "case = 'Lower' #@param ['Lower','Upper','NotApply']  {type:\"string\",label:\"Aplicação de casing\", description:\"Caixa baixa, caixa alta ou não aplicação de caixa\"}\n",
    "remove_stop_words = True #@param [True,False]  {type:\"boolean\",label:\" Remoção de Stop Words\", description:\"Remoção de palavras, conjunções, artigos e outros\"}\n",
    "remove_top_words = True #@param [True,False]  {type:\"boolean\",label:\" Remoção de Top Words\", description:\"Remoção dea porcentagem palavras mais frequentes no texto\"}\n",
    "top_words_percentage = 0.01 #@param {type:\"number\",label:\" Porcentagem de Top Words\", description:\"Porcentagem das palavras mais frequentes no texto\"}\n",
    "stemming = False #@param [True,False]  {type:\"boolean\",label:\"Stemming\"}\n",
    "lemmatization = True #@param [True,False]  {type:\"boolean\",label:\"Lemmatization\"}\n",
    "remove_punctuation = True #@param [True,False]  {type:\"boolean\",label:\"Remoção de pontuação\"}\n",
    "remove_line_braks = True #@param [True,False]  {type:\"boolean\",label:\"Remoção de quebras de lina\",description:\"Remoção de quebras de linha por \\n e \\r\"}\n",
    "remove_accents= True #@param [True,False]  {type:\"boolean\",label:\"Remoção de acentos\"}\n",
    "remove_html = True #@param [True,False]  {type:\"boolean\",label:\"Remoção de HTML\"}\n",
    "remove_css = True #@param [True,False]  {type:\"boolean\",label:\"Remoção de CSS\"}"
   ]
  },
  {
   "cell_type": "markdown",
   "metadata": {
    "id": "ylc859l2kLMc"
   },
   "source": [
    "## Configurações Gerais\n",
    "\n"
   ]
  },
  {
   "cell_type": "markdown",
   "metadata": {
    "id": "-VWoVX87lIl2"
   },
   "source": [
    "Definindo GPU como padrão e verificando status de hardware"
   ]
  },
  {
   "cell_type": "code",
   "execution_count": 9,
   "metadata": {
    "colab": {
     "base_uri": "https://localhost:8080/",
     "height": 34
    },
    "id": "C1jVexlxkKPB",
    "outputId": "3cdb3d50-df86-4939-c2e8-5aef996e8651"
   },
   "outputs": [
    {
     "name": "stdout",
     "output_type": "stream",
     "text": [
      "number of CPU cores: 12\n"
     ]
    }
   ],
   "source": [
    "from multiprocessing import cpu_count\n",
    "import torch\n",
    "dev = \"cuda:0\" if torch.cuda.is_available() else \"cpu\"\n",
    "device = torch.device(dev)\n",
    "if dev == \"cpu\":\n",
    "    print(f\"number of CPU cores: {cpu_count()}\")\n",
    "else:\n",
    "    print(f\"GPU: {torch.cuda.get_device_name(0)}, number of CPU cores: {cpu_count()}\")"
   ]
  },
  {
   "cell_type": "markdown",
   "metadata": {
    "id": "4ZKuGxZtkBtP"
   },
   "source": [
    "Impedir excesso de logs"
   ]
  },
  {
   "cell_type": "code",
   "execution_count": 10,
   "metadata": {
    "id": "Wp7cKKJakymt"
   },
   "outputs": [],
   "source": [
    "import logging\n",
    "logging.getLogger(\"transformers.configuration_utils\").setLevel(logging.WARNING)\n",
    "logging.getLogger(\"transformers.modeling_utils\").setLevel(logging.WARNING)\n",
    "logging.getLogger(\"lightning\").setLevel(logging.WARNING)"
   ]
  },
  {
   "cell_type": "markdown",
   "metadata": {
    "id": "NkSLj_sZk_IG"
   },
   "source": [
    "Fixar semente de pesos aleatporios para replicabilidade"
   ]
  },
  {
   "cell_type": "code",
   "execution_count": 11,
   "metadata": {
    "id": "1JqH82K-k2QI"
   },
   "outputs": [],
   "source": [
    "import random\n",
    "random.seed(seed)\n",
    "torch.random.manual_seed(seed)\n",
    "torch.cuda.manual_seed(seed)"
   ]
  },
  {
   "cell_type": "markdown",
   "metadata": {
    "id": "Fg9s8gudcfjF"
   },
   "source": [
    "## Acesso ao conjunto de dados\n",
    "\n",
    "O conjunto de dados utilizado nesta etapa será o mesmo carregado através da plataforma.<br>\n",
    "O tipo da variável retornada depende do arquivo de origem:\n",
    "- [pandas.DataFrame](https://pandas.pydata.org/pandas-docs/stable/reference/api/pandas.DataFrame.html) para CSV e compressed CSV: .csv .csv.zip .csv.gz .csv.bz2 .csv.xz\n",
    "- [Binary IO stream](https://docs.python.org/3/library/io.html#binary-i-o) para outros tipos de arquivo: .jpg .wav .zip .h5 .parquet etc"
   ]
  },
  {
   "cell_type": "code",
   "execution_count": 13,
   "metadata": {
    "colab": {
     "base_uri": "https://localhost:8080/",
     "height": 416
    },
    "id": "mR0o0ezkcfjG",
    "outputId": "83abe94f-a4ae-415a-da97-037d278ba584"
   },
   "outputs": [
    {
     "data": {
      "text/html": [
       "<div>\n",
       "<style scoped>\n",
       "    .dataframe tbody tr th:only-of-type {\n",
       "        vertical-align: middle;\n",
       "    }\n",
       "\n",
       "    .dataframe tbody tr th {\n",
       "        vertical-align: top;\n",
       "    }\n",
       "\n",
       "    .dataframe thead th {\n",
       "        text-align: right;\n",
       "    }\n",
       "</style>\n",
       "<table border=\"1\" class=\"dataframe\">\n",
       "  <thead>\n",
       "    <tr style=\"text-align: right;\">\n",
       "      <th></th>\n",
       "      <th>HD_ID</th>\n",
       "      <th>issuetype</th>\n",
       "      <th>summary</th>\n",
       "      <th>components</th>\n",
       "      <th>description</th>\n",
       "      <th>Unnamed: 5</th>\n",
       "    </tr>\n",
       "  </thead>\n",
       "  <tbody>\n",
       "    <tr>\n",
       "      <th>0</th>\n",
       "      <td>HD-82125</td>\n",
       "      <td>Requisição</td>\n",
       "      <td>Jira e confluence não acessar sem VPN e VPN do...</td>\n",
       "      <td>VPN</td>\n",
       "      <td>Jira e confluence não acessar sem VPN e VPN do...</td>\n",
       "      <td>NaN</td>\n",
       "    </tr>\n",
       "    <tr>\n",
       "      <th>1</th>\n",
       "      <td>HD-82111</td>\n",
       "      <td>Requisição</td>\n",
       "      <td>DT para levar monitor de computador DELL para ...</td>\n",
       "      <td>Partes/peças</td>\n",
       "      <td>Boa tarde, tudo bem?\\n\\nGostaria de solicitar,...</td>\n",
       "      <td>NaN</td>\n",
       "    </tr>\n",
       "    <tr>\n",
       "      <th>2</th>\n",
       "      <td>HD-82104</td>\n",
       "      <td>Requisição</td>\n",
       "      <td>Acesso ao Novo SVN</td>\n",
       "      <td>Jira</td>\n",
       "      <td>Gustavo, boa tarde!\\n\\nPor gentileza, adiciona...</td>\n",
       "      <td>NaN</td>\n",
       "    </tr>\n",
       "    <tr>\n",
       "      <th>3</th>\n",
       "      <td>HD-82097</td>\n",
       "      <td>Requisição</td>\n",
       "      <td>Instalação de softwares - Troca de máquina</td>\n",
       "      <td>Software Windows</td>\n",
       "      <td>Devido ao trabalho remoto, está inviável traba...</td>\n",
       "      <td>NaN</td>\n",
       "    </tr>\n",
       "    <tr>\n",
       "      <th>4</th>\n",
       "      <td>HD-82092</td>\n",
       "      <td>Incidente</td>\n",
       "      <td>Solicitação de perfil de administrador via aut...</td>\n",
       "      <td>Autoatendimento</td>\n",
       "      <td>Estou conectado na nova VPN do CPQD (via Forti...</td>\n",
       "      <td>NaN</td>\n",
       "    </tr>\n",
       "    <tr>\n",
       "      <th>...</th>\n",
       "      <td>...</td>\n",
       "      <td>...</td>\n",
       "      <td>...</td>\n",
       "      <td>...</td>\n",
       "      <td>...</td>\n",
       "      <td>...</td>\n",
       "    </tr>\n",
       "    <tr>\n",
       "      <th>12200</th>\n",
       "      <td>HD-68372</td>\n",
       "      <td>Requisição</td>\n",
       "      <td>Manutenção na instância awsdsda139</td>\n",
       "      <td>Nuvem</td>\n",
       "      <td>Recebemos um comunicado da AWS, que foi detect...</td>\n",
       "      <td>NaN</td>\n",
       "    </tr>\n",
       "    <tr>\n",
       "      <th>12201</th>\n",
       "      <td>HD-68371</td>\n",
       "      <td>Requisição</td>\n",
       "      <td>Permissão de acesso ao JIRA-RN</td>\n",
       "      <td>Jira</td>\n",
       "      <td>Bom dia.\\n\\nSolicito acesso ao JIRA RN para o ...</td>\n",
       "      <td>NaN</td>\n",
       "    </tr>\n",
       "    <tr>\n",
       "      <th>12202</th>\n",
       "      <td>HD-68370</td>\n",
       "      <td>Requisição</td>\n",
       "      <td>Extração - Clientes Suspensos no E1</td>\n",
       "      <td>E1 Contratos</td>\n",
       "      <td>{color:#000000}Bom dia Prezados, {color}\\n\\n{c...</td>\n",
       "      <td>NaN</td>\n",
       "    </tr>\n",
       "    <tr>\n",
       "      <th>12203</th>\n",
       "      <td>HD-68369</td>\n",
       "      <td>Incidente</td>\n",
       "      <td>Login no Windows - acesso à máquina</td>\n",
       "      <td>Conta de rede</td>\n",
       "      <td>O funcionário Vitor Hugo Silva Oliveira não es...</td>\n",
       "      <td>NaN</td>\n",
       "    </tr>\n",
       "    <tr>\n",
       "      <th>12204</th>\n",
       "      <td>HD-68368</td>\n",
       "      <td>Requisição</td>\n",
       "      <td>BD - Aumentar tablespaces na instância \"no2611i1\"</td>\n",
       "      <td>Banco de Dados</td>\n",
       "      <td>Favor aumentar as tablespaces abaixo, na instâ...</td>\n",
       "      <td>NaN</td>\n",
       "    </tr>\n",
       "  </tbody>\n",
       "</table>\n",
       "<p>12205 rows × 6 columns</p>\n",
       "</div>"
      ],
      "text/plain": [
       "          HD_ID   issuetype  \\\n",
       "0      HD-82125  Requisição   \n",
       "1      HD-82111  Requisição   \n",
       "2      HD-82104  Requisição   \n",
       "3      HD-82097  Requisição   \n",
       "4      HD-82092   Incidente   \n",
       "...         ...         ...   \n",
       "12200  HD-68372  Requisição   \n",
       "12201  HD-68371  Requisição   \n",
       "12202  HD-68370  Requisição   \n",
       "12203  HD-68369   Incidente   \n",
       "12204  HD-68368  Requisição   \n",
       "\n",
       "                                                 summary        components  \\\n",
       "0      Jira e confluence não acessar sem VPN e VPN do...               VPN   \n",
       "1      DT para levar monitor de computador DELL para ...      Partes/peças   \n",
       "2                                     Acesso ao Novo SVN              Jira   \n",
       "3             Instalação de softwares - Troca de máquina  Software Windows   \n",
       "4      Solicitação de perfil de administrador via aut...   Autoatendimento   \n",
       "...                                                  ...               ...   \n",
       "12200                 Manutenção na instância awsdsda139             Nuvem   \n",
       "12201                     Permissão de acesso ao JIRA-RN              Jira   \n",
       "12202                Extração - Clientes Suspensos no E1      E1 Contratos   \n",
       "12203                Login no Windows - acesso à máquina     Conta de rede   \n",
       "12204  BD - Aumentar tablespaces na instância \"no2611i1\"    Banco de Dados   \n",
       "\n",
       "                                             description Unnamed: 5  \n",
       "0      Jira e confluence não acessar sem VPN e VPN do...        NaN  \n",
       "1      Boa tarde, tudo bem?\\n\\nGostaria de solicitar,...        NaN  \n",
       "2      Gustavo, boa tarde!\\n\\nPor gentileza, adiciona...        NaN  \n",
       "3      Devido ao trabalho remoto, está inviável traba...        NaN  \n",
       "4      Estou conectado na nova VPN do CPQD (via Forti...        NaN  \n",
       "...                                                  ...        ...  \n",
       "12200  Recebemos um comunicado da AWS, que foi detect...        NaN  \n",
       "12201  Bom dia.\\n\\nSolicito acesso ao JIRA RN para o ...        NaN  \n",
       "12202  {color:#000000}Bom dia Prezados, {color}\\n\\n{c...        NaN  \n",
       "12203  O funcionário Vitor Hugo Silva Oliveira não es...        NaN  \n",
       "12204  Favor aumentar as tablespaces abaixo, na instâ...        NaN  \n",
       "\n",
       "[12205 rows x 6 columns]"
      ]
     },
     "execution_count": 13,
     "metadata": {},
     "output_type": "execute_result"
    }
   ],
   "source": [
    "import pandas as pd\n",
    "df = pd.read_csv(dataset)\n",
    "df"
   ]
  },
  {
   "cell_type": "markdown",
   "metadata": {
    "id": "7nV2YBO8k5vr"
   },
   "source": [
    "## Trabalhando os dados\n",
    "Removendo as classes desnecessárias"
   ]
  },
  {
   "cell_type": "code",
   "execution_count": 14,
   "metadata": {
    "colab": {
     "base_uri": "https://localhost:8080/",
     "height": 416
    },
    "id": "LCpWNX2Bk6Zz",
    "outputId": "414c5272-e0c4-4542-c835-14af40257b83"
   },
   "outputs": [
    {
     "data": {
      "text/html": [
       "<div>\n",
       "<style scoped>\n",
       "    .dataframe tbody tr th:only-of-type {\n",
       "        vertical-align: middle;\n",
       "    }\n",
       "\n",
       "    .dataframe tbody tr th {\n",
       "        vertical-align: top;\n",
       "    }\n",
       "\n",
       "    .dataframe thead th {\n",
       "        text-align: right;\n",
       "    }\n",
       "</style>\n",
       "<table border=\"1\" class=\"dataframe\">\n",
       "  <thead>\n",
       "    <tr style=\"text-align: right;\">\n",
       "      <th></th>\n",
       "      <th>text</th>\n",
       "      <th>target</th>\n",
       "    </tr>\n",
       "  </thead>\n",
       "  <tbody>\n",
       "    <tr>\n",
       "      <th>0</th>\n",
       "      <td>Jira e confluence não acessar sem VPN e VPN do...</td>\n",
       "      <td>Requisição</td>\n",
       "    </tr>\n",
       "    <tr>\n",
       "      <th>1</th>\n",
       "      <td>Boa tarde, tudo bem?\\n\\nGostaria de solicitar,...</td>\n",
       "      <td>Requisição</td>\n",
       "    </tr>\n",
       "    <tr>\n",
       "      <th>2</th>\n",
       "      <td>Gustavo, boa tarde!\\n\\nPor gentileza, adiciona...</td>\n",
       "      <td>Requisição</td>\n",
       "    </tr>\n",
       "    <tr>\n",
       "      <th>3</th>\n",
       "      <td>Devido ao trabalho remoto, está inviável traba...</td>\n",
       "      <td>Requisição</td>\n",
       "    </tr>\n",
       "    <tr>\n",
       "      <th>4</th>\n",
       "      <td>Estou conectado na nova VPN do CPQD (via Forti...</td>\n",
       "      <td>Incidente</td>\n",
       "    </tr>\n",
       "    <tr>\n",
       "      <th>...</th>\n",
       "      <td>...</td>\n",
       "      <td>...</td>\n",
       "    </tr>\n",
       "    <tr>\n",
       "      <th>12200</th>\n",
       "      <td>Recebemos um comunicado da AWS, que foi detect...</td>\n",
       "      <td>Requisição</td>\n",
       "    </tr>\n",
       "    <tr>\n",
       "      <th>12201</th>\n",
       "      <td>Bom dia.\\n\\nSolicito acesso ao JIRA RN para o ...</td>\n",
       "      <td>Requisição</td>\n",
       "    </tr>\n",
       "    <tr>\n",
       "      <th>12202</th>\n",
       "      <td>{color:#000000}Bom dia Prezados, {color}\\n\\n{c...</td>\n",
       "      <td>Requisição</td>\n",
       "    </tr>\n",
       "    <tr>\n",
       "      <th>12203</th>\n",
       "      <td>O funcionário Vitor Hugo Silva Oliveira não es...</td>\n",
       "      <td>Incidente</td>\n",
       "    </tr>\n",
       "    <tr>\n",
       "      <th>12204</th>\n",
       "      <td>Favor aumentar as tablespaces abaixo, na instâ...</td>\n",
       "      <td>Requisição</td>\n",
       "    </tr>\n",
       "  </tbody>\n",
       "</table>\n",
       "<p>10739 rows × 2 columns</p>\n",
       "</div>"
      ],
      "text/plain": [
       "                                                    text      target\n",
       "0      Jira e confluence não acessar sem VPN e VPN do...  Requisição\n",
       "1      Boa tarde, tudo bem?\\n\\nGostaria de solicitar,...  Requisição\n",
       "2      Gustavo, boa tarde!\\n\\nPor gentileza, adiciona...  Requisição\n",
       "3      Devido ao trabalho remoto, está inviável traba...  Requisição\n",
       "4      Estou conectado na nova VPN do CPQD (via Forti...   Incidente\n",
       "...                                                  ...         ...\n",
       "12200  Recebemos um comunicado da AWS, que foi detect...  Requisição\n",
       "12201  Bom dia.\\n\\nSolicito acesso ao JIRA RN para o ...  Requisição\n",
       "12202  {color:#000000}Bom dia Prezados, {color}\\n\\n{c...  Requisição\n",
       "12203  O funcionário Vitor Hugo Silva Oliveira não es...   Incidente\n",
       "12204  Favor aumentar as tablespaces abaixo, na instâ...  Requisição\n",
       "\n",
       "[10739 rows x 2 columns]"
      ]
     },
     "execution_count": 14,
     "metadata": {},
     "output_type": "execute_result"
    }
   ],
   "source": [
    "df = df[[model_features, target]]\n",
    "df = df.rename(columns={model_features: \"text\", target: \"target\"})\n",
    "model_features, target = \"text\",\"target\"\n",
    "df = df[(df.target != 'Epic') & (df.target != 'Demanda') & (df.target != 'Bug') & (df.target != 'Sub-task')]\n",
    "df"
   ]
  },
  {
   "cell_type": "markdown",
   "metadata": {
    "id": "INZe4iBRcfjL"
   },
   "source": [
    "## Acesso aos metadados do conjunto de dados\n",
    "\n",
    "Utiliza a função `stat_dataset` do [SDK da PlatIAgro](https://platiagro.github.io/sdk/) para carregar metadados. <br>\n",
    "Por exemplo, arquivos CSV possuem `metadata['featuretypes']` para cada coluna no conjunto de dados (ex: categorical, numerical, or datetime)."
   ]
  },
  {
   "cell_type": "code",
   "execution_count": 15,
   "metadata": {
    "id": "PWJfCTTacfjL"
   },
   "outputs": [],
   "source": [
    "import numpy as np\n",
    "#from platiagro import stat_dataset\n",
    "\n",
    "#metadata = stat_dataset(name=dataset)\n",
    "#featuretypes = metadata[\"featuretypes\"]\n",
    "\n",
    "columns = df.columns.to_numpy()\n",
    "#featuretypes = np.array(featuretypes)\n",
    "target_index = np.argwhere(columns == target)\n",
    "columns = np.delete(columns, target_index)\n",
    "#featuretypes = np.delete(featuretypes, target_index)"
   ]
  },
  {
   "cell_type": "markdown",
   "metadata": {
    "id": "qL-gCSEWcfjP"
   },
   "source": [
    "## Remoção de linhas com valores faltantes no atributo alvo\n",
    "\n",
    "Caso haja linhas em que o atributo alvo contenha valores faltantes, é feita a remoção dos casos faltantes."
   ]
  },
  {
   "cell_type": "code",
   "execution_count": 16,
   "metadata": {
    "id": "LRdnKbyKcfjQ"
   },
   "outputs": [],
   "source": [
    "from sklearn.preprocessing import LabelEncoder\n",
    "\n",
    "df.dropna(subset = [target],inplace=True)\n",
    "df.dropna(subset = [model_features],inplace=True)\n",
    "y = df[target].to_numpy()\n",
    "label_encoder = LabelEncoder()\n",
    "y = label_encoder.fit_transform(y)"
   ]
  },
  {
   "cell_type": "markdown",
   "metadata": {
    "id": "7jmjr4rTcfjU"
   },
   "source": [
    "## Filtragem das features \n",
    "\n",
    "Seleciona apenas as features que foram declaradas no parâmetro model_features. Se nenhuma feature for especificada, todo o conjunto de dados será utilizado para a modelagem."
   ]
  },
  {
   "cell_type": "code",
   "execution_count": 17,
   "metadata": {
    "id": "XcZs3X2WcfjU"
   },
   "outputs": [],
   "source": [
    "if filter_type == 'incluir':\n",
    "    if len(model_features) >= 1:\n",
    "        columns_index = (np.where(np.isin(columns,model_features)))[0]\n",
    "        columns_index.sort()\n",
    "        columns_to_filter = columns[columns_index]\n",
    "        #featuretypes = featuretypes[columns_index]\n",
    "    else:\n",
    "        columns_to_filter = columns\n",
    "else:\n",
    "    if len(model_features) >= 1:\n",
    "        columns_index = (np.where(np.isin(columns,model_features)))[0]\n",
    "        columns_index.sort()\n",
    "        columns_to_filter = np.delete(columns,columns_index)\n",
    "        #featuretypes = np.delete(featuretypes,columns_index)\n",
    "    else:\n",
    "        columns_to_filter = columns\n",
    "\n",
    "# keep the features selected\n",
    "df_model = df[columns_to_filter]\n",
    "X = df_model.to_numpy()"
   ]
  },
  {
   "cell_type": "markdown",
   "metadata": {
    "id": "qkG4CvuIcfjZ"
   },
   "source": [
    "## Divisão do datset em subconjuntos de treino e teste\n",
    "\n",
    "Subconjunto de Treino: amostras de dados usado para treinar o modelo (``fit``). <br>\n",
    "Subconjunto de Teste: a amostra de dados usada para fornecer uma avaliação imparcial de um modelo adequado ao conjunto de dados de treinamento."
   ]
  },
  {
   "cell_type": "code",
   "execution_count": 18,
   "metadata": {
    "id": "PJZAdWnbkBtv"
   },
   "outputs": [],
   "source": [
    "from sklearn.model_selection import train_test_split\n",
    "from sklearn.model_selection import StratifiedShuffleSplit\n",
    "\n",
    "X_train, X_, y_train, y_  = train_test_split(X, y,  train_size=0.8,random_state=seed,stratify = y)\n",
    "X_valid, X_test, y_valid, y_test = train_test_split(X_, y_,  train_size=0.5,stratify = y_)"
   ]
  },
  {
   "cell_type": "markdown",
   "metadata": {
    "id": "fajIsSC0cfjn"
   },
   "source": [
    "## Processamento do texto\n",
    "\n",
    "Funções auxiliares para processamento dos dados."
   ]
  },
  {
   "cell_type": "code",
   "execution_count": 19,
   "metadata": {
    "id": "bo4mkTsScfjo"
   },
   "outputs": [],
   "source": [
    "from re import sub\n",
    "from collections import defaultdict\n",
    "from functools import reduce\n",
    "import string  \n",
    "from nltk.stem import PorterStemmer\n",
    "from nltk.stem import WordNetLemmatizer \n",
    "from nltk.tokenize import word_tokenize\n",
    "import unidecode\n",
    "from ftfy import fix_text\n",
    "\n",
    "\n",
    "def tokenize_text(text_list: list = None):\n",
    "    \"\"\"Tokenize Text without the hyperparâmeters defined.\n",
    "\n",
    "    Args:\n",
    "        text_list (list): a list of texts to be used.\n",
    "\n",
    "    Returns:\n",
    "        A list of tokenized text without punctuation.\n",
    "    \"\"\"\n",
    "    \n",
    "    tokenize_list = list()\n",
    "    for text in text_list:\n",
    "        text = text[0]\n",
    "        text = fix_text(text)\n",
    "        text = sub(\"<.*?>\", ' ', text) if remove_html else text\n",
    "        text = sub(\"{.*?}\", ' ', text) if remove_css else text\n",
    "        text = unidecode.unidecode(text) if remove_accents else text\n",
    "        text = sub(\"/\\r\\n|\\n|\\r|\", \"\",text) if remove_line_braks else text\n",
    "        text = sub('['+string.punctuation+']', '', text) if remove_punctuation else text\n",
    "        text = sub(' +', ' ',text) #only to avoid multiple spaces\n",
    "        text = text.split(' ')\n",
    "        \n",
    "        tokenize_list.append(text)\n",
    "    return tokenize_list\n",
    "\n",
    "\n",
    "def top_tokens_stopwords(sentence_list: list, percentage: float = 0.01):\n",
    "    \"\"\"Selects the most relevant stops words of the tokerized texts.\n",
    "\n",
    "    Args:\n",
    "        sentence_list (list): list of tokens.\n",
    "        percentage (float): percentage threshold.\n",
    "    \"\"\"\n",
    "    percentage = top_words_percentage\n",
    "    vocabulary = defaultdict(int)\n",
    "\n",
    "    for sample in sentence_list:\n",
    "        for token in sample:\n",
    "            vocabulary[token] += 1\n",
    "\n",
    "    all_tokens = sorted(vocabulary.items(), key=lambda token: token[1], reverse=True)\n",
    "    top_tokens = all_tokens[:int(len(all_tokens) * percentage)]\n",
    "\n",
    "    return [token[0] for token in top_tokens]\n",
    "\n",
    "\n",
    "def remove_specific_tokens(sentence_list: list, tokens_to_be_removed: list = None):\n",
    "    \"\"\"Removes specific tokens from a token list.\n",
    "\n",
    "    Args:\n",
    "        sentence_list (list): list of tokens from which other tokens will be removed.\n",
    "        tokens_to_be_removed (list): list of tokens that need to be removed.\n",
    "    \"\"\"\n",
    "    sentence_list_ = list()\n",
    "    sentence_list_ = [x for x in sentence_list if x not in tokens_to_be_removed]\n",
    "\n",
    "    return sentence_list_\n",
    "\n",
    "def apply_stemming(sentence_list: list):\n",
    "    ps = PorterStemmer()\n",
    "    sentence_list = [[ps.stem(word) for word in token_list ] for token_list in sentence_list]\n",
    "    return sentence_list\n",
    "    \n",
    "def apply_lemmatization(sentence_list: list):\n",
    "    lemmatizer = WordNetLemmatizer() \n",
    "    sentence_list = [[lemmatizer.lemmatize(word) for word in token_list ] for token_list in sentence_list]\n",
    "    return sentence_list\n",
    "    \n",
    "def apply_casing(sentence_list: list,case:str):\n",
    "    if case == 'Lower': \n",
    "        sentence_list = [[word.lower() for word in token_list ] for token_list in sentence_list]\n",
    "    elif case == 'Upper':\n",
    "        sentence_list = [[word.upper() for word in token_list ] for token_list in sentence_list]\n",
    "    else:\n",
    "        pass\n",
    "    return sentence_list\n",
    "   \n",
    "def token_restructuring(sentence_list: list):\n",
    "    \"\"\"Reduce a nested list of tokens to a single list (1D).\n",
    "    \n",
    "    Args:\n",
    "        sentence_list (list): list to be work on.\n",
    "    \"\"\"\n",
    "    return reduce(lambda x, y: x + y, sentence_list)"
   ]
  },
  {
   "cell_type": "markdown",
   "metadata": {
    "id": "kg_JjaPQcfjr"
   },
   "source": [
    "## Download dos Embeddings e Visualização do GloVe"
   ]
  },
  {
   "cell_type": "markdown",
   "metadata": {
    "id": "RU8SDgqCcfjs"
   },
   "source": [
    "Download dos Embeddings"
   ]
  },
  {
   "cell_type": "code",
   "execution_count": 13,
   "metadata": {
    "colab": {
     "base_uri": "https://localhost:8080/",
     "height": 242
    },
    "id": "6xp2Bzg6cfjt",
    "outputId": "cfb15b5c-3a7a-4c35-8829-4814ba0f4b92"
   },
   "outputs": [
    {
     "name": "stderr",
     "output_type": "stream",
     "text": [
      "DEBUG:root:test\n"
     ]
    },
    {
     "name": "stdout",
     "output_type": "stream",
     "text": [
      "--2020-10-13 11:53:25--  http://143.107.183.175:22980/download.php?file=embeddings/glove/glove_s300.zip\n",
      "Connecting to 143.107.183.175:22980... connected.\n",
      "HTTP request sent, awaiting response... 200 OK\n",
      "Length: 993190150 (947M) [application/octet-stream]\n",
      "Saving to: ‘download.php?file=embeddings%2Fglove%2Fglove_s300.zip’\n",
      "\n",
      "download.php?file=e 100%[===================>] 947.18M  2.39MB/s    in 6m 32s  \n",
      "\n",
      "2020-10-13 11:59:57 (2.42 MB/s) - ‘download.php?file=embeddings%2Fglove%2Fglove_s300.zip’ saved [993190150/993190150]\n",
      "\n",
      "Archive:  download.php?file=embeddings%2Fglove%2Fglove_s300.zip\n",
      "  inflating: glove_dir/glove_s300.txt  \n"
     ]
    }
   ],
   "source": [
    "import logging\n",
    "logger = logging.getLogger()\n",
    "logger.setLevel(logging.DEBUG)\n",
    "logging.debug(\"test\")\n",
    "\n",
    "!wget -nc http://143.107.183.175:22980/download.php?file=embeddings/glove/glove_s300.zip\n",
    "!unzip download.php?file=embeddings%2Fglove%2Fglove_s300.zip -d glove_dir"
   ]
  },
  {
   "cell_type": "markdown",
   "metadata": {
    "id": "bRzC_Ex9cfjy"
   },
   "source": [
    "Criação das Estruturas Glove"
   ]
  },
  {
   "cell_type": "code",
   "execution_count": 20,
   "metadata": {
    "colab": {
     "base_uri": "https://localhost:8080/",
     "height": 1000
    },
    "id": "8ThREF1-cfjz",
    "outputId": "7fe95c40-a1b0-496e-959f-a52c2d02f507"
   },
   "outputs": [
    {
     "name": "stderr",
     "output_type": "stream",
     "text": [
      "/opt/conda/lib/python3.7/site-packages/smart_open/smart_open_lib.py:252: UserWarning: This function is deprecated, use smart_open.open instead. See the migration notes for details: https://github.com/RaRe-Technologies/smart_open/blob/master/README.rst#migrating-to-the-new-open-function\n",
      "  'See the migration notes for details: %s' % _MIGRATION_NOTES_URL\n"
     ]
    },
    {
     "name": "stdout",
     "output_type": "stream",
     "text": [
      "(929605, 300)\n",
      "Primeiras 20 palavras e seus índices: [(',', 0), ('de', 1), ('.', 2), ('a', 3), ('o', 4), ('e', 5), ('que', 6), ('do', 7), ('da', 8), ('em', 9), ('para', 10), ('um', 11), ('no', 12), ('com', 13), ('é', 14), ('uma', 15), ('os', 16), ('não', 17), ('na', 18), ('00', 19)]\n",
      "Primeiras 20 palavras: [',', 'de', '.', 'a', 'o', 'e', 'que', 'do', 'da', 'em', 'para', 'um', 'no', 'com', 'é', 'uma', 'os', 'não', 'na', '00']\n",
      "Primeiro vetor: tensor([ 1.1282e-01,  2.9262e-01, -5.7020e-01, -3.1565e-01,  4.2790e-01,\n",
      "         3.4630e-02,  4.8593e-01, -8.1227e-01, -1.2669e-01,  9.5024e-02,\n",
      "         3.4666e-01, -3.2423e-01, -3.6171e-01,  5.0958e-01, -9.1133e-02,\n",
      "        -7.0473e-02, -1.2013e-01,  6.4262e-02,  3.4333e-01,  1.5560e-03,\n",
      "         5.0704e-01,  3.9401e-01, -4.3727e-01,  3.2195e-01, -5.0355e-02,\n",
      "        -3.9882e-02,  2.3282e-01,  2.2585e-01,  2.7178e-01,  5.7722e-01,\n",
      "        -4.7339e-01,  4.0111e-01,  1.6947e-01,  3.9903e-01,  1.2794e-01,\n",
      "         4.5972e-01, -5.9340e-01, -3.6103e-01, -5.4674e-01,  3.3047e-01,\n",
      "         2.3374e-01,  5.8388e-02, -7.2479e-01, -2.3483e-01,  5.3026e-01,\n",
      "        -1.9173e-01, -7.1651e-02, -9.8692e-02,  1.4550e-01, -3.4677e-01,\n",
      "        -3.3848e-02,  4.1572e-01, -1.2003e-01,  5.4730e-01, -1.7696e-01,\n",
      "         5.8131e-02, -2.4868e-01,  2.0449e-01, -8.1491e-02, -3.4367e-01,\n",
      "         2.0496e-01,  2.5500e-01,  9.7111e-02, -7.8180e-03, -9.6700e-04,\n",
      "        -4.0064e-01,  2.9915e-01,  2.9656e-01,  1.9963e-01,  8.5525e-02,\n",
      "        -1.4650e-01,  9.7289e-02,  7.9729e-01,  2.5166e-01,  4.3887e-01,\n",
      "        -9.6783e-02, -3.1591e-01, -2.1673e-01,  4.4398e-02,  1.4532e-01,\n",
      "         5.6737e-01, -1.9076e-01, -7.6296e-02,  7.3730e-03,  2.7759e-01,\n",
      "         3.2704e-01, -1.9137e-01, -1.7073e-01, -2.4680e-01, -8.5189e-01,\n",
      "        -1.7901e-01, -1.1235e-01, -1.6507e-01,  2.6478e-02,  4.8306e-01,\n",
      "        -1.7184e-01, -2.3236e-01, -2.1341e-01,  3.4977e-01, -2.2073e-01,\n",
      "         4.7115e-01,  2.1227e-01,  8.2720e-01,  3.0703e-01,  4.9888e+00,\n",
      "        -7.5947e-01,  3.0685e-01, -5.7100e-03,  2.6491e-01,  7.6708e-02,\n",
      "        -5.4615e-01,  6.8218e-01,  2.5486e-01, -9.0501e-01, -5.2472e-01,\n",
      "         1.0961e-01,  1.6857e-01,  2.3173e-01,  4.1030e-01, -1.3041e-01,\n",
      "        -1.1638e-01, -1.9667e-01,  3.0626e-01,  2.7000e-01, -1.9098e-01,\n",
      "        -6.7243e-02,  4.6496e-01, -2.8070e-01, -2.8782e-01, -1.6359e-01,\n",
      "        -2.8904e-01, -3.0126e-01, -2.6633e-01, -8.2715e-02,  7.3411e-01,\n",
      "        -5.6955e-02,  2.3399e-01,  3.6868e-02,  3.4125e-01,  5.2419e-02,\n",
      "        -1.9667e-01,  9.3758e-02, -3.9549e-01,  3.4605e-02, -1.0246e+00,\n",
      "         2.3344e-01,  4.6025e-01,  4.1019e-01, -5.4239e-01, -3.9360e-02,\n",
      "        -2.1245e-01, -2.1914e-01, -3.0098e-01,  3.4963e-01,  4.9392e-01,\n",
      "        -3.1599e-01,  1.5250e-01, -5.3091e-01, -1.8528e-01,  5.1773e-01,\n",
      "         3.0712e-01, -9.0607e-02, -3.9961e-01, -3.9425e-02, -9.8956e-02,\n",
      "         5.2588e-02, -2.5016e-01,  2.3339e-01,  3.9837e-02, -4.1563e-02,\n",
      "         3.1715e-01, -2.8320e-01, -7.2944e-02, -6.4173e-01,  4.5792e-01,\n",
      "         4.8883e-01,  2.8644e-01,  5.4692e-02, -1.9185e-01,  2.9737e-01,\n",
      "         4.2007e-02, -2.7931e-01, -2.2969e-01, -1.0349e+00,  1.2371e-01,\n",
      "         2.8397e-02,  8.2990e-02, -1.9377e-01, -3.7760e-01,  1.0435e-01,\n",
      "         5.4650e-01,  4.0126e-01,  3.9836e-01,  1.2224e-01, -7.9548e-01,\n",
      "        -2.8069e-01,  4.1349e-01, -2.7811e-01, -2.7389e-01,  4.8370e-01,\n",
      "        -7.5274e-02, -4.8608e-02,  3.3719e-01,  8.2704e-02,  3.2049e-01,\n",
      "        -1.5111e-01,  2.7023e-01,  4.8429e-02, -3.5727e-01, -3.8878e-01,\n",
      "        -4.9221e-01, -8.7449e-02, -2.8091e-01,  1.4735e-01,  8.4787e-01,\n",
      "        -1.4170e-01,  1.0534e-01, -4.5985e-02, -4.1387e-01, -4.3084e-02,\n",
      "         3.8999e-02, -2.6729e-01,  3.7492e-01,  2.2027e-02, -5.2243e-02,\n",
      "         4.6261e-01, -6.2901e-01,  2.5204e-01,  7.3967e-01,  6.2276e-01,\n",
      "         6.1246e-01, -2.0098e-01, -4.2284e-01, -2.2563e-01,  3.5278e-01,\n",
      "         2.1171e-01, -2.3795e-01,  1.3091e-01,  1.3378e-01, -2.8833e-01,\n",
      "         1.2890e+00, -8.8350e-03,  4.3013e-02,  2.6376e-01,  2.8322e-01,\n",
      "        -1.3106e-01,  2.0999e-01,  4.5803e-01, -2.8764e-01,  9.2785e-02,\n",
      "        -1.5567e-01, -1.6105e-01, -5.9390e-03, -2.5004e-01, -2.2298e-01,\n",
      "         3.5879e-01, -2.7762e-01, -4.4962e-01, -5.7429e-02,  3.4474e-01,\n",
      "         3.0774e-01, -5.4577e-01, -7.8524e-01,  2.5971e-01,  2.4177e-02,\n",
      "        -4.6355e-01,  5.1206e-01, -1.8939e-01, -2.3295e-02,  1.9287e-01,\n",
      "         4.4627e-02,  4.8020e-01,  2.5881e-01,  6.8684e-02, -6.0604e-02,\n",
      "         1.9092e-01, -6.3487e-01,  8.7042e-01, -7.4527e-02, -6.3753e-02,\n",
      "         6.1426e-02,  1.1986e-01, -1.7507e-02,  1.3708e-02,  4.6092e-01,\n",
      "         1.6338e-01, -8.5566e-01,  3.4949e-01,  5.5172e-02,  4.2290e-01,\n",
      "         4.6965e-02, -3.7485e-01,  1.6978e-01, -5.9540e-02, -6.1633e-01,\n",
      "        -8.1150e-02, -6.0430e-01, -2.4279e-02,  3.1445e-02, -4.5433e-02])\n"
     ]
    }
   ],
   "source": [
    "from gensim.models import KeyedVectors\n",
    "glove = KeyedVectors.load_word2vec_format('/home/jovyan/tasks/Portuguese_Glove_Embeddings_Sentence_Classification/glove_dir/glove_s300.txt')\n",
    "\n",
    "#Definição das variáveis da Bag Of Embeddings\n",
    "glove_dim = glove.vector_size #300\n",
    "glove_words = glove.index2word\n",
    "glove_vectors = torch.from_numpy(glove.vectors)\n",
    "glove_vocab = {word:i for i, word in enumerate(glove_words)}\n",
    "print(glove.vectors.shape)\n",
    "print('Primeiras 20 palavras e seus índices:', list(glove_vocab.items())[:20])\n",
    "print('Primeiras 20 palavras:',glove_words[:20])\n",
    "print('Primeiro vetor:', list(glove_vectors)[0])"
   ]
  },
  {
   "cell_type": "markdown",
   "metadata": {
    "id": "1h8V0O6ccfj2"
   },
   "source": [
    "## Construção da matriz de Glove Embeddings Bag"
   ]
  },
  {
   "cell_type": "code",
   "execution_count": 21,
   "metadata": {
    "colab": {
     "base_uri": "https://localhost:8080/",
     "height": 86
    },
    "id": "_U-r4IDBrtig",
    "outputId": "3658c289-7fca-443b-c69f-55945e94251b"
   },
   "outputs": [
    {
     "name": "stdout",
     "output_type": "stream",
     "text": [
      "[nltk_data] Downloading package stopwords to /home/jovyan/nltk_data...\n",
      "[nltk_data]   Package stopwords is already up-to-date!\n",
      "[nltk_data] Downloading package wordnet to /home/jovyan/nltk_data...\n",
      "[nltk_data]   Package wordnet is already up-to-date!\n"
     ]
    }
   ],
   "source": [
    "import nltk\n",
    "if remove_stop_words:\n",
    "    # Download stopwords from nltk\n",
    "    nltk.download('stopwords')\n",
    "\n",
    "    # Get a list of stopwords for the defined language\n",
    "    stopwords = nltk.corpus.stopwords.words(language)\n",
    "\n",
    "if lemmatization:\n",
    "    nltk.download('wordnet')"
   ]
  },
  {
   "cell_type": "code",
   "execution_count": 22,
   "metadata": {
    "colab": {
     "base_uri": "https://localhost:8080/",
     "height": 52
    },
    "id": "3iIE_cq8cfj3",
    "outputId": "90115051-cf9b-49ae-c42f-ce17ec56b1b8"
   },
   "outputs": [
    {
     "name": "stdout",
     "output_type": "stream",
     "text": [
      "[36295, 19105, 15, 246403, 7, 3073, 12332, 10, 38, 5547, 18, 171]\n",
      "['ola', 'solicito', 'uma', 'licenca', 'do', 'pacote', 'office', 'para', 'ser', 'instalada', 'na', 'minha']\n"
     ]
    }
   ],
   "source": [
    "def tokenize(X):\n",
    "    vocab = tokenize_text(X)\n",
    "    top_tokens = top_tokens_stopwords(vocab) if remove_top_words else None\n",
    "    vocab = remove_specific_tokens(vocab,top_tokens) if remove_top_words else vocab\n",
    "    vocab = remove_specific_tokens(vocab,stopwords) if remove_stop_words else vocab\n",
    "    vocab = apply_stemming(vocab) if stemming else vocab\n",
    "    vocab = apply_lemmatization(vocab) if lemmatization else vocab\n",
    "    vocab = apply_casing(vocab,case)\n",
    "    return vocab\n",
    "\n",
    "def build_glove_matrix(X):\n",
    "    X = tokenize(X)\n",
    "    glove_matrix = []\n",
    "    word_filtered_matrix = []\n",
    "    for token_line in X:\n",
    "        token_phrase = [glove_vocab[word] for word in token_line if (word in glove_vocab)]\n",
    "        filtered_words = [word for word in token_line if (word in glove_vocab)]\n",
    "        word_filtered_matrix.append(filtered_words)\n",
    "        glove_matrix.append(token_phrase)\n",
    "  \n",
    "    return glove_matrix , word_filtered_matrix\n",
    "\n",
    "#listas de listas construidas\n",
    "X_train_glove_ids,X_train_glove_words  = build_glove_matrix(X_train)\n",
    "X_valid_glove_ids,X_valid_glove_words  = build_glove_matrix(X_valid)\n",
    "X_test_glove_ids,X_test_glove_words = build_glove_matrix(X_test)\n",
    "\n",
    "print(X_train_glove_ids[0])\n",
    "print(X_train_glove_words[0])"
   ]
  },
  {
   "cell_type": "markdown",
   "metadata": {
    "id": "2TbwrKy4cfj6"
   },
   "source": [
    "## Criaçãod do Dataset"
   ]
  },
  {
   "cell_type": "code",
   "execution_count": 23,
   "metadata": {
    "colab": {
     "base_uri": "https://localhost:8080/",
     "height": 34
    },
    "id": "YAWdgpVJcfj6",
    "outputId": "0fc2bdb4-47f5-4cea-870b-35ae964b57eb"
   },
   "outputs": [
    {
     "name": "stdout",
     "output_type": "stream",
     "text": [
      "Overwriting Dataset.py\n"
     ]
    }
   ],
   "source": [
    "%%writefile Dataset.py\n",
    "from torch.utils.data import Dataset\n",
    "from numpy import genfromtxt\n",
    "import torch\n",
    "\n",
    "class ImdbDataset(Dataset):\n",
    "    def __init__(self, X, X_words,target = None,step = \"Experiment\"):\n",
    "        super(ImdbDataset, self).__init__()\n",
    "\n",
    "        self.x = [torch.tensor(line).type(torch.LongTensor) for line in X ]\n",
    "        self.words = X_words\n",
    "        self.step = step\n",
    "        if step == \"Experiment\":\n",
    "            self.target = torch.tensor(target).type(torch.LongTensor) \n",
    "\n",
    "\n",
    "    def __len__(self):\n",
    "        return len(self.x)\n",
    "  \n",
    "    def __getitem__(self, index):\n",
    "        if self.step == \"Experiment\":\n",
    "            return self.x[index], self.words[index], self.target[index]\n",
    "        if self.step == \"Deployment\":\n",
    "            return self.x[index], self.words[index]"
   ]
  },
  {
   "cell_type": "code",
   "execution_count": 24,
   "metadata": {
    "id": "B5B4GvhHkBuW"
   },
   "outputs": [],
   "source": [
    "%run Dataset.py"
   ]
  },
  {
   "cell_type": "markdown",
   "metadata": {
    "id": "G7De9y2vcfj_"
   },
   "source": [
    "Criando e Testando Datasets"
   ]
  },
  {
   "cell_type": "code",
   "execution_count": 25,
   "metadata": {
    "colab": {
     "base_uri": "https://localhost:8080/",
     "height": 104
    },
    "id": "SMbmJ88Bcfj_",
    "outputId": "fb51847c-cec2-43cf-c363-dd03ad7bfe4d"
   },
   "outputs": [
    {
     "name": "stdout",
     "output_type": "stream",
     "text": [
      "------->Testando Dataset<-------\n",
      "tensor([ 36295,  19105,     15, 246403,      7,   3073,  12332,     10,     38,\n",
      "          5547,     18,    171])\n",
      "['ola', 'solicito', 'uma', 'licenca', 'do', 'pacote', 'office', 'para', 'ser', 'instalada', 'na', 'minha']\n",
      "tensor(1)\n"
     ]
    }
   ],
   "source": [
    "torch_ds_debug = ImdbDataset(X_train_glove_ids,X_train_glove_words,y_train)\n",
    "print(\"------->Testando Dataset<-------\")\n",
    "x1,xw1, y1 = torch_ds_debug[0]\n",
    "print(x1)\n",
    "print(xw1)\n",
    "print(y1)"
   ]
  },
  {
   "cell_type": "markdown",
   "metadata": {
    "id": "lgda605FcfkC"
   },
   "source": [
    "## Criando Dataloader"
   ]
  },
  {
   "cell_type": "markdown",
   "metadata": {
    "id": "2lYK1UfAcfkD"
   },
   "source": [
    "O Collate serve par criar um offset em caso de entradas variáveis"
   ]
  },
  {
   "cell_type": "code",
   "execution_count": 26,
   "metadata": {
    "id": "fXrVpbAtcfkE"
   },
   "outputs": [],
   "source": [
    "def my_collate(batch):\n",
    "    #import pdb;pdb.set_trace()\n",
    "\n",
    "    # len soma de todas as palavras\n",
    "    lista_words = []\n",
    "    [lista_words.extend(item[1]) for item in batch]\n",
    "\n",
    "    # len soma de todas as palavras\n",
    "    lista_words_ids = [item[0] for item in batch]\n",
    "    lista_words_ids_vector = torch.cat(lista_words_ids)\n",
    "\n",
    "    #len batch_size\n",
    "    target = [item[2] for item in batch]\n",
    "    target = torch.stack(target)\n",
    "\n",
    "    # len batch_size\n",
    "    offsets = [0] + [len(entry) for entry in lista_words_ids]\n",
    "    offsets = torch.tensor(offsets[:-1]).cumsum(dim=0)\n",
    "    \n",
    "    return lista_words_ids_vector,offsets,target\n"
   ]
  },
  {
   "cell_type": "markdown",
   "metadata": {
    "id": "04ZLeuEScfkI"
   },
   "source": [
    "Criando Dataloaders"
   ]
  },
  {
   "cell_type": "code",
   "execution_count": 27,
   "metadata": {
    "id": "5_PpeX9JcfkI"
   },
   "outputs": [],
   "source": [
    "from torch.utils.data import DataLoader\n",
    "debug_loader = DataLoader(torch_ds_debug, batch_size=train_batch_size, shuffle=True, collate_fn=my_collate)"
   ]
  },
  {
   "cell_type": "markdown",
   "metadata": {
    "id": "ioLE4wxpcfkL"
   },
   "source": [
    "Testando Dataloaders"
   ]
  },
  {
   "cell_type": "code",
   "execution_count": 28,
   "metadata": {
    "colab": {
     "base_uri": "https://localhost:8080/",
     "height": 294
    },
    "id": "_8w1yo4WcfkL",
    "outputId": "e6299eb9-e9c6-438d-aab3-c5044c365f56"
   },
   "outputs": [
    {
     "name": "stdout",
     "output_type": "stream",
     "text": [
      "------->Testando Dataloader <-------\n"
     ]
    },
    {
     "data": {
      "text/plain": [
       "(tensor([   225,      1,   5214,      6,      4,    232,      1,    469,      7,\n",
       "           1417,      1,    120,      7,    723,      1,  72608, 189248,    594,\n",
       "          22045,     10,      3,  45331,     62,   2425,   5085,      1,  83997,\n",
       "           2139,   1754, 168391,   2842,      1,   3253,      3, 214670,      5,\n",
       "         605539,   3528,  25224,    249,      5,     12,  51422,      6,  31756,\n",
       "            362,  45331,     84,     13,  11801,      4, 145834,      8,  45331,\n",
       "            811, 250911, 289673,     10,     38,   1335,      9,  19793,  44924,\n",
       "         186780,  27878,   4145,   9989,  19105,      3,   1449,      7,  79657,\n",
       "              8,    351, 189248,   4803, 214433,  13115,  19105, 794062,      7,\n",
       "          25843,  69689,     12,    135,  26730,   3528,  31461,  73505,    154,\n",
       "           8141,      1,   1044,    534,   6087,  32149,   2975,  86828,   2820,\n",
       "           2937, 315322,    230, 168391,    225,     85,  19105,     11,   3253,\n",
       "             10,  26730,   2425, 105139,   6561,   6561,  53653, 168391, 181743,\n",
       "              1,   2058,   3528,    225,   9607,     84,   2109,     12,    200,\n",
       "              7, 168391,  14547,  32149,      4,   9607,   1608,     28,     13,\n",
       "             11,    414,      3,     30,     82,      8,   3121,     12,   9607,\n",
       "           7827,    284,     21,  19323,      3,      7,  62715, 195200,    376,\n",
       "              3, 272083,      8,  36544,    513,      8,      7,    232,      1,\n",
       "            469,      8,    370,    151,      5,  13115,      5,    151,      5,\n",
       "            232,      1,      4,  26730,    730,   6386,    552,     18,   3712,\n",
       "              1,  13766,      7,  42646,      5,   7803,   2273,    257,      4,\n",
       "         120016,    486,      5]),\n",
       " tensor([  0,  45,  54,  67,  78,  88, 103, 120, 152, 173]),\n",
       " tensor([1, 0, 1, 0, 1, 1, 1, 0, 1, 0]))"
      ]
     },
     "execution_count": 28,
     "metadata": {},
     "output_type": "execute_result"
    }
   ],
   "source": [
    "print(\"------->Testando Dataloader <-------\")\n",
    "next(iter(debug_loader))"
   ]
  },
  {
   "cell_type": "markdown",
   "metadata": {
    "id": "Mtq5FZY8kBuu"
   },
   "source": [
    "## Recuperando os pesos"
   ]
  },
  {
   "cell_type": "code",
   "execution_count": 29,
   "metadata": {
    "colab": {
     "base_uri": "https://localhost:8080/",
     "height": 34
    },
    "id": "rCDy1R1pkBuv",
    "outputId": "d39090ff-5745-47b4-96e5-b79401d677cb"
   },
   "outputs": [
    {
     "data": {
      "text/plain": [
       "'/home/jovyan/tasks/Portuguese_Glove_Embeddings_Sentence_Classification'"
      ]
     },
     "execution_count": 29,
     "metadata": {},
     "output_type": "execute_result"
    }
   ],
   "source": [
    "import os\n",
    "cwd = os.getcwd()\n",
    "cwd"
   ]
  },
  {
   "cell_type": "code",
   "execution_count": null,
   "metadata": {
    "id": "HiaBag9qkBuz"
   },
   "outputs": [],
   "source": [
    "# ! gsutil cp gs://platiagro/Glove_Bag_Of_Embeddings_For_Sentence_Classification/epoch=199.ckpt  /home/jovyan/tasks/GloVe_Bag_Of_Sentence_Classification"
   ]
  },
  {
   "cell_type": "markdown",
   "metadata": {
    "id": "M_O9CvCwn2Mq"
   },
   "source": [
    "## Modelo Pytorch Lightning"
   ]
  },
  {
   "cell_type": "code",
   "execution_count": 30,
   "metadata": {
    "colab": {
     "base_uri": "https://localhost:8080/",
     "height": 34
    },
    "id": "itIgwqsWj8-3",
    "outputId": "3ffee106-ac60-4f06-bef8-4dc045e03af9"
   },
   "outputs": [
    {
     "name": "stdout",
     "output_type": "stream",
     "text": [
      "Overwriting Model_Lightning.py\n"
     ]
    }
   ],
   "source": [
    "%%writefile Model_Lightning.py\n",
    "from torch.utils.data.sampler import WeightedRandomSampler\n",
    "from sklearn.metrics import accuracy_score\n",
    "from torch.utils.data import DataLoader\n",
    "from multiprocessing import cpu_count\n",
    "import pytorch_lightning as pl\n",
    "import torch\n",
    "import functools\n",
    "import traceback\n",
    "import psutil\n",
    "import pandas as pd\n",
    "\n",
    "\n",
    "class GloveFinetuner(pl.LightningModule):\n",
    "\n",
    "    def __init__(self, \n",
    "                 hyperparams,\n",
    "                 model_parameters,\n",
    "                 dataset_infos,\n",
    "                 extra_infos):\n",
    "\n",
    "        super(GloveFinetuner, self).__init__()\n",
    "\n",
    "        #---------- hyperparams\n",
    "        self.learning_rate = hyperparams['learning_rate']\n",
    "        self.train_batch_size = hyperparams[\"train_batch_size\"]\n",
    "        self.eval_batch_size = hyperparams[\"eval_batch_size\"]\n",
    "        self.hidden_dim = hyperparams['hidden_dim']\n",
    "        \n",
    "        #---------- model_parameters\n",
    "        self.loss_funtion = model_parameters['criterion']\n",
    "        self.label_encoder = model_parameters['label_encoder']\n",
    "        self.glove_dim = model_parameters['glove_dim']\n",
    "        self.glove_vectors = model_parameters['glove_vectors']\n",
    "        \n",
    "        #---------- dataset_infos\n",
    "        self.all_data = dataset_infos['all_data']\n",
    "        self.CustomDataset = dataset_infos['CustomDataset']\n",
    "        \n",
    "        #---------- extra_infos\n",
    "        self.overfit = extra_infos['overfit']\n",
    "        self.sampler = extra_infos['sampler']\n",
    "        \n",
    "         #---------- other_infos\n",
    "        self.predict_proba  =  torch.nn.Softmax(dim=1)\n",
    "        self.step = 'Experiment'\n",
    "\n",
    "        #---------- Dados para gráfico de Acurácia e Loss\n",
    "        self.df_performance_train_batch = pd.DataFrame(columns=['train_batch_loss','train_batch_acc'])\n",
    "        self.df_performance_train_epoch = pd.DataFrame(columns=['train_epoch_loss','train_epoch_acc'])\n",
    "        self.df_performance_valid_batch = pd.DataFrame(columns=['valid_batch_loss','valid_batch_acc'])\n",
    "        self.df_performance_valid_epoch = pd.DataFrame(columns=['valid_epoch_loss','valid_epoch_acc'])\n",
    "\n",
    "\n",
    "        #---------- Carregamento datasets\n",
    "        self.targets_sampler = self.all_data[2]\n",
    "        if self.overfit:\n",
    "            self.train_dataset = self.CustomDataset(self.all_data[0], self.all_data[1],self.all_data[2])\n",
    "            self.valid_dataset = self.CustomDataset(self.all_data[0], self.all_data[1],self.all_data[2])\n",
    "            self.test_dataset =  self.CustomDataset(self.all_data[0], self.all_data[1],self.all_data[2])\n",
    "        else:\n",
    "            self.train_dataset = self.CustomDataset(self.all_data[0], self.all_data[1],self.all_data[2])\n",
    "            self.valid_dataset = self.CustomDataset(self.all_data[3], self.all_data[4],self.all_data[5])\n",
    "            self.test_dataset =  self.CustomDataset(self.all_data[6], self.all_data[7],self.all_data[8])\n",
    "\n",
    "\n",
    "        #---------- Datafame de comparação para o teste\n",
    "        self.df_valid = pd.DataFrame(columns=['ORIGINAL_TARGET','ORIGINAL_CODE','PREDICTED_TARGET','PREDICTED_CODE','REQ_PROBA','INC_PROBA'])\n",
    "        self.df_test = pd.DataFrame(columns=['ORIGINAL_TARGET','ORIGINAL_CODE','PREDICTED_TARGET','PREDICTED_CODE','REQ_PROBA','INC_PROBA'])\n",
    "\n",
    "        #---------- Englobamentoda rede para classificação(se necessário)\n",
    "        weight = self.glove_vectors #pesos fixos pré treinados\n",
    "        embedding_dim = self.glove_dim \n",
    "        \n",
    "        self.embedding_bag = torch.nn.EmbeddingBag.from_pretrained(weight,mode='mean',freeze=True)\n",
    "        self.layer1 = torch.nn.Linear(embedding_dim,self.hidden_dim)\n",
    "        self.layer2 = torch.nn.Linear(self.hidden_dim,2) #2 porque são duas classes na saída\n",
    "\n",
    "        layers= [self.layer1,self.layer2]\n",
    "\n",
    "        self.net = torch.nn.Sequential(*layers)\n",
    "\n",
    "    def predict(self, X_inference_glove_ids,X_inference_glove_words):\n",
    "        self.step = \"Deployment\"\n",
    "        inference_dataset = self.CustomDataset(X_inference_glove_ids, X_inference_glove_words,step = self.step)\n",
    "        dataloader = DataLoader(inference_dataset, batch_size=self.batch_size,shuffle=False, num_workers=cpu_count(),collate_fn=self.my_collate)    \n",
    "        for batch in dataloader:\n",
    "            self.test_step(batch, None)\n",
    "        return self.df_test\n",
    "            \n",
    "    def forward(self, word_ids, offsets):\n",
    "        X_emb = self.embedding_bag(word_ids,offsets)\n",
    "        hidden = torch.relu(self.layer1(X_emb))\n",
    "        logits = self.layer2(hidden)\n",
    "        return logits\n",
    "\n",
    "\n",
    "    def training_step(self, batch, batch_nb):\n",
    "        # batch\n",
    "        inputs, offsets, targets = batch\n",
    "         \n",
    "        # fwd\n",
    "        y_hat = self.forward(inputs,offsets)\n",
    "        \n",
    "        # loss\n",
    "        loss = self.loss_funtion(y_hat, targets)\n",
    "\n",
    "        # acc\n",
    "        acc = self.get_acc(y_hat, targets)\n",
    "        \n",
    "        # What to log\n",
    "        tensorboard_logs = {'loss': loss,'acc':acc}\n",
    "\n",
    "        self.df_performance_train_batch = self.df_performance_train_batch.append(pd.Series([loss.item(),acc.item()], index=self.df_performance_train_batch.columns ), ignore_index=True)\n",
    "\n",
    "        return {'loss': loss,'train_acc_batch': acc, 'train_loss_batch': loss,'log': tensorboard_logs}\n",
    "     \n",
    "    def training_epoch_end(self, outputs):\n",
    "        if not outputs: return {}\n",
    "        \n",
    "\n",
    "        temp_avg_loss_batch = [x['train_loss_batch'] for x in outputs]\n",
    "        temp_avg_acc_batch = [x['train_acc_batch'] for x in outputs]\n",
    "  \n",
    "        avg_train_loss = torch.stack(temp_avg_loss_batch).mean()\n",
    "        avg_train_acc = torch.stack(temp_avg_acc_batch).mean()\n",
    "\n",
    "        self.df_performance_train_epoch = self.df_performance_train_epoch.append(pd.Series([avg_train_loss.item(),avg_train_acc.item()], index=self.df_performance_train_epoch.columns ), ignore_index=True)\n",
    "\n",
    "        tensorboard_logs = {'avg_train_acc': avg_train_acc,'avg_train_loss': avg_train_loss}\n",
    "\n",
    "        return {'avg_train_acc': avg_train_acc, 'log': tensorboard_logs}\n",
    "\n",
    "        \n",
    "\n",
    "    def validation_step(self, batch, batch_nb):\n",
    "        # batch\n",
    "        inputs, offsets, targets = batch\n",
    "         \n",
    "        # fwd\n",
    "        y_hat = self.forward(inputs,offsets)\n",
    "        \n",
    "        # loss\n",
    "        loss = self.loss_funtion(y_hat, targets)\n",
    "\n",
    "        # acc\n",
    "        acc = self.get_acc(y_hat, targets)\n",
    "\n",
    "        #constructing dataframe\n",
    "        _, predicted_codes = torch.max(y_hat, dim=1)\n",
    "        predicted_targets = self.label_encoder.inverse_transform(predicted_codes.data.cpu().numpy())\n",
    "        original_targets = self.label_encoder.inverse_transform(targets.data.cpu().numpy())\n",
    "        classes_probabilities = self.predict_proba(y_hat).data.cpu().numpy()\n",
    "\n",
    "        for original_target,target,predicted_target,predicted_code,classes_probability in zip(original_targets,targets,predicted_targets,predicted_codes,classes_probabilities):\n",
    "            self.df_valid = self.df_valid.append(pd.Series([original_target,int(target),predicted_target,int(predicted_code),classes_probability[0],classes_probability[1]], index=self.df_valid.columns ), ignore_index=True)\n",
    "\n",
    "        self.df_performance_valid_batch = self.df_performance_valid_batch.append(pd.Series([loss.item(),acc.item()], index=self.df_performance_valid_batch.columns ), ignore_index=True)\n",
    "\n",
    "        return {'valid_acc_batch': acc, 'valid_loss_batch': loss}\n",
    "\n",
    "    def validation_epoch_end(self, outputs):\n",
    "        if not outputs: return {}\n",
    "        temp_avg_loss_batch = [x['valid_loss_batch'] for x in outputs]\n",
    "        temp_avg_acc_batch = [x['valid_acc_batch'] for x in outputs]\n",
    "\n",
    "        avg_valid_loss = torch.stack(temp_avg_loss_batch).mean()\n",
    "        avg_valid_acc = torch.stack(temp_avg_acc_batch).mean()\n",
    "\n",
    "        self.df_performance_valid_epoch = self.df_performance_valid_epoch.append(pd.Series([avg_valid_loss.item(),avg_valid_acc.item()], index=self.df_performance_valid_epoch.columns ), ignore_index=True)\n",
    "\n",
    "\n",
    "        tensorboard_logs = {'avg_valid_acc': avg_valid_acc,'avg_valid_loss': avg_valid_loss}\n",
    "\n",
    "        return {'avg_valid_acc': avg_valid_acc, 'log': tensorboard_logs}\n",
    "\n",
    "\n",
    "    def test_step(self, batch, batch_nb):\n",
    "        # batch\n",
    "        if self.step == \"Experiment\":\n",
    "            inputs, offsets, targets = batch\n",
    "            # fwd\n",
    "            y_hat = self.forward(inputs,offsets)\n",
    "            # acc\n",
    "            acc = self.get_acc(y_hat, targets)\n",
    "            #constructing dataframe\n",
    "            _, predicted_codes = torch.max(y_hat, dim=1)\n",
    "            predicted_targets = self.label_encoder.inverse_transform(predicted_codes.data.cpu().numpy())\n",
    "            original_targets = self.label_encoder.inverse_transform(targets.data.cpu().numpy())\n",
    "            classes_probabilities = self.predict_proba(y_hat).data.cpu().numpy()\n",
    "            for original_target,target,predicted_target,predicted_code,classes_probability in zip(original_targets,targets,predicted_targets,predicted_codes,classes_probabilities):\n",
    "                self.df_test = self.df_test.append(pd.Series([original_target,int(target),predicted_target,int(predicted_code),classes_probability[0],classes_probability[1]], index=self.df_test.columns ), ignore_index=True)\n",
    "            retorno = {'test_acc_batch': acc}\n",
    "                \n",
    "        if self.step == \"Deployment\":\n",
    "            inputs, offsets = batch\n",
    "            # fwd\n",
    "            y_hat = self.forward(inputs,offsets)\n",
    "            #constructing dataframe\n",
    "            _, predicted_codes = torch.max(y_hat, dim=1)\n",
    "            predicted_targets = self.label_encoder.inverse_transform(predicted_codes.data.cpu().numpy())\n",
    "            classes_probabilities = self.predict_proba(y_hat).data.cpu().numpy()\n",
    "            not_apply_list = ['N/A'] * len(classes_probabilities)\n",
    "            for not_apply,predicted_target,predicted_code,classes_probability in zip(not_apply_list,predicted_targets,predicted_codes,classes_probabilities):\n",
    "                self.df_test = self.df_test.append(pd.Series([not_apply,not_apply,predicted_target,int(predicted_code),classes_probability[0],classes_probability[1]], index=self.df_test.columns ), ignore_index=True)\n",
    "\n",
    "            retorno = None\n",
    "            \n",
    "        return retorno\n",
    "\n",
    "    def test_epoch_end(self, outputs):\n",
    "        if not outputs: return {}\n",
    "        avg_test_acc = torch.stack([x['test_acc_batch'] for x in outputs]).mean()\n",
    "\n",
    "        tensorboard_logs = {'avg_test_acc': avg_test_acc}\n",
    "\n",
    "        return {'avg_test_acc': avg_test_acc, 'log': tensorboard_logs}\n",
    "\n",
    "    def configure_optimizers(self):\n",
    "        return torch.optim.SGD(\n",
    "            [p for p in self.parameters() if p.requires_grad],\n",
    "            lr=self.learning_rate)\n",
    "    \n",
    "    def get_acc(self,y_hat,original_codes):\n",
    "        _, y_hat = torch.max(y_hat, dim=1)\n",
    "        val_acc = accuracy_score(y_hat.cpu(), original_codes.cpu())\n",
    "        return torch.tensor(val_acc)\n",
    "    \n",
    "    def my_collate(self,batch):\n",
    "        # len soma de todas as palavras\n",
    "        lista_words = []\n",
    "        [lista_words.extend(item[1]) for item in batch]\n",
    "\n",
    "        # len soma de todas as palavras\n",
    "        lista_words_ids = [item[0] for item in batch]\n",
    "        lista_words_ids_vector = torch.cat(lista_words_ids)\n",
    "        \n",
    "        if self.step == \"Experiment\":\n",
    "            #len batch_size\n",
    "            target = [item[2] for item in batch]\n",
    "            target = torch.stack(target)\n",
    "\n",
    "        # len batch_size\n",
    "        offsets = [0] + [len(entry) for entry in lista_words_ids]\n",
    "        offsets = torch.tensor(offsets[:-1]).cumsum(dim=0)\n",
    "        \n",
    "        if self.step == \"Experiment\":\n",
    "            retorno = lista_words_ids_vector,offsets,target\n",
    "        if self.step == \"Deployment\":\n",
    "            retorno = lista_words_ids_vector,offsets\n",
    "        \n",
    "        return retorno\n",
    "\n",
    "    def gpu_mem_restore(func):\n",
    "        @functools.wraps(func)\n",
    "        def wrapper(*args, **kwargs):\n",
    "            try:\n",
    "                return func(*args, **kwargs)\n",
    "            except:\n",
    "                type, val, tb = sys.exc_info()\n",
    "                traceback.clear_frames(tb)\n",
    "                raise type(val).with_traceback(tb) from None\n",
    "        return wrapper\n",
    "\n",
    "    @gpu_mem_restore\n",
    "    def train_dataloader(self):\n",
    "        if self.sampler:\n",
    "            targets = []\n",
    "            for target in self.targets_sampler:\n",
    "                targets.append(target)\n",
    "            targets = torch.tensor(targets).type(torch.long)\n",
    "            # Compute samples weight (each sample should get its own weight)\n",
    "            class_sample_count = torch.tensor( [(targets == t).sum() for t in torch.unique(targets, sorted=True)])\n",
    "            weight = 1. / class_sample_count.float()\n",
    "            samples_weight = torch.tensor([weight[t] for t in targets])\n",
    "\n",
    "            # Create sampler, dataset, loader\n",
    "            sampler = WeightedRandomSampler(samples_weight, len(samples_weight))\n",
    "            shuffle = False\n",
    "        else:\n",
    "            shuffle = True\n",
    "            sampler = None\n",
    "    \n",
    "        shuffle = False if self.overfit else True\n",
    "        return DataLoader(self.train_dataset, sampler = sampler, batch_size=self.train_batch_size, shuffle=shuffle,num_workers=cpu_count(), collate_fn=self.my_collate)\n",
    "\n",
    "    @gpu_mem_restore\n",
    "    def val_dataloader(self):\n",
    "        return DataLoader(self.valid_dataset, batch_size=self.eval_batch_size,shuffle=False, num_workers=cpu_count(),collate_fn=self.my_collate)    \n",
    "\n",
    "    @gpu_mem_restore\n",
    "    def test_dataloader(self):\n",
    "        return DataLoader(self.test_dataset, batch_size=self.eval_batch_size,shuffle=False, num_workers=cpu_count(),collate_fn=self.my_collate)"
   ]
  },
  {
   "cell_type": "code",
   "execution_count": 31,
   "metadata": {
    "colab": {
     "base_uri": "https://localhost:8080/",
     "height": 34
    },
    "id": "pQBiYZ4rkBu6",
    "outputId": "6121cd5f-15cb-417a-8247-c16a24df387e"
   },
   "outputs": [],
   "source": [
    "%run Model_Lightning.py"
   ]
  },
  {
   "cell_type": "markdown",
   "metadata": {
    "id": "bkyK6vjRkBu8"
   },
   "source": [
    "Parâmetros do Modelo"
   ]
  },
  {
   "cell_type": "code",
   "execution_count": 34,
   "metadata": {
    "id": "VMNPYBiHkBu9"
   },
   "outputs": [],
   "source": [
    "all_data = [X_train_glove_ids,X_train_glove_words,y_train,X_valid_glove_ids,X_valid_glove_words,y_valid,X_test_glove_ids,X_test_glove_words,y_test]\n",
    "hyperparams = {'learning_rate':learning_rate,\"train_batch_size\":train_batch_size,\"eval_batch_size\":eval_batch_size,'max_epochs':max_epochs,'accumulate_grad_batches':accumulate_grad_batches,'seed':seed,'hidden_dim':hidden_dim}\n",
    "model_parameters = {'criterion': torch.nn.CrossEntropyLoss(),'glove_vectors':glove_vectors,'glove_dim':glove_dim,'label_encoder':label_encoder}\n",
    "dataset_infos = {'all_data':all_data,'CustomDataset':ImdbDataset}\n",
    "extra_infos = {'overfit':False,'sampler':False}"
   ]
  },
  {
   "cell_type": "code",
   "execution_count": 35,
   "metadata": {
    "colab": {
     "base_uri": "https://localhost:8080/",
     "height": 34
    },
    "id": "9sXIgi7tkBvC",
    "outputId": "9470fa9a-b875-4533-b1ce-5ea4a388da47"
   },
   "outputs": [
    {
     "data": {
      "text/plain": [
       "tensor(90902)"
      ]
     },
     "execution_count": 35,
     "metadata": {},
     "output_type": "execute_result"
    }
   ],
   "source": [
    "model = GloveFinetuner(hyperparams=hyperparams,\n",
    "                       model_parameters=model_parameters,\n",
    "                       dataset_infos=dataset_infos,\n",
    "                       extra_infos = extra_infos)  \n",
    "sum([torch.tensor(x.size()).prod() for x in model.parameters() if x.requires_grad]) # trainable parameters"
   ]
  },
  {
   "cell_type": "code",
   "execution_count": 36,
   "metadata": {
    "colab": {
     "base_uri": "https://localhost:8080/",
     "height": 624,
     "referenced_widgets": [
      "c72300ebdbe94f2a975d0390d5adcd76",
      "7b26a9a97faf434f910511e2f87eaa42",
      "3e70fe299c484467bafedce848ac7c5b",
      "e8755eea61eb4cc4aaae02b5e4c01d58",
      "04ffc681e2ca4c24ae0185da68973608",
      "e82213013ae14f4386ea80c355939902",
      "e5814ab57b8342df87461045efa387cd",
      "2b10c7856ff74d9bbe3c26a7151d3619",
      "1c9d94bdf943471e90a4effbb632036c",
      "b176f60b01c748c4ac2df58ae76f295c",
      "94a7422ccc684224bdadc8b33c0b97ed",
      "58ba0fe5e068490ba794e3712ea8add6",
      "32688dabfd7e4389bcec860a1746610c",
      "478337a8b3d4428992ecbc6fd6bc366f",
      "c5bed3c7192b47c5868a29a2117389f6",
      "c64338be17b9481ba6ec47716bef91f4"
     ]
    },
    "id": "qmGJGUjDkBvF",
    "outputId": "b4225e79-0258-4603-f527-8c2465cac776"
   },
   "outputs": [
    {
     "data": {
      "application/vnd.jupyter.widget-view+json": {
       "model_id": "b0b97077e4c54f8b901687bf19045cb6",
       "version_major": 2,
       "version_minor": 0
      },
      "text/plain": [
       "HBox(children=(FloatProgress(value=1.0, bar_style='info', description='Training', layout=Layout(flex='2'), max…"
      ]
     },
     "metadata": {},
     "output_type": "display_data"
    },
    {
     "data": {
      "application/vnd.jupyter.widget-view+json": {
       "model_id": "",
       "version_major": 2,
       "version_minor": 0
      },
      "text/plain": [
       "HBox(children=(FloatProgress(value=1.0, bar_style='info', description='Validating', layout=Layout(flex='2'), m…"
      ]
     },
     "metadata": {},
     "output_type": "display_data"
    },
    {
     "name": "stdout",
     "output_type": "stream",
     "text": [
      "\n"
     ]
    },
    {
     "data": {
      "text/plain": [
       "1"
      ]
     },
     "execution_count": 36,
     "metadata": {},
     "output_type": "execute_result"
    }
   ],
   "source": [
    "trainer = pl.Trainer(gpus=0, \n",
    "                     checkpoint_callback=False,  # Disable checkpoint saving.\n",
    "                     fast_dev_run=True)\n",
    "trainer.fit(model)"
   ]
  },
  {
   "cell_type": "code",
   "execution_count": 37,
   "metadata": {
    "colab": {
     "base_uri": "https://localhost:8080/",
     "height": 190,
     "referenced_widgets": [
      "e6edbfb6bbed497d939141be56da96e5",
      "1e065c49d5844fd3badde3ae136130c4",
      "ad5d2324488f4928bb3bd714ea4a20e6",
      "dbbb4faab258401e98ed220deb451eab",
      "ac66c3e038d04d7eafe6a8150738d594",
      "90688c9ce8cc40e6b007745d5940aa3b",
      "93527e370a284cba84a2319ddbe300c8",
      "8b86b949f6b149edbdcdaa16caafeca2"
     ]
    },
    "id": "2mNKPcFJkBvK",
    "outputId": "3406dad0-4716-40af-d123-920368e60f6b"
   },
   "outputs": [
    {
     "data": {
      "application/vnd.jupyter.widget-view+json": {
       "model_id": "82cb93d2383b48fba2bd372e9520f7dd",
       "version_major": 2,
       "version_minor": 0
      },
      "text/plain": [
       "HBox(children=(FloatProgress(value=1.0, bar_style='info', description='Testing', layout=Layout(flex='2'), max=…"
      ]
     },
     "metadata": {},
     "output_type": "display_data"
    },
    {
     "name": "stdout",
     "output_type": "stream",
     "text": [
      "--------------------------------------------------------------------------------\n",
      "TEST RESULTS\n",
      "{'avg_test_acc': tensor(1., dtype=torch.float64)}\n",
      "--------------------------------------------------------------------------------\n",
      "\n"
     ]
    }
   ],
   "source": [
    "trainer.test(model)"
   ]
  },
  {
   "cell_type": "code",
   "execution_count": 38,
   "metadata": {
    "id": "hszYCepEJhTo"
   },
   "outputs": [],
   "source": [
    "del model"
   ]
  },
  {
   "cell_type": "markdown",
   "metadata": {
    "id": "ZX8D6hBRkBvN"
   },
   "source": [
    "Recuperando ou treinando o modelo"
   ]
  },
  {
   "cell_type": "code",
   "execution_count": null,
   "metadata": {
    "colab": {
     "base_uri": "https://localhost:8080/",
     "height": 1000,
     "referenced_widgets": [
      "86d645f38c8f40b39bfcbbb0f19a3cb9",
      "5129b562b39b484a82265aacf64abfec",
      "c7d89ce489e641d78c736e853c506f4d",
      "71751e948cb2449988b5da2fffb9b71b",
      "801b6c64c1dc48588fa9c9d5d7472557",
      "edd8a940c0a44233abb9c083bca502dd",
      "eec43a142d264862a86ff2b4a1d24137",
      "1850375eeafc46679e8bf807a562deea",
      "98aa848aa9f1465dbaa14071bb1f4917",
      "00537ba4617f4804be3debe8a19f809c",
      "bfc2d211d4dd45b2a658f0e8d567e7f4",
      "7a484000e90447fdbaaf9241904152c4",
      "4d87bbf6a22c45e5b61028744d81c6e2",
      "dabde3fb25d14b308ca85547a0d91b86",
      "4faeac4689b945cda6d08102099f7777",
      "6136323be6c84fee90c948e9ca05e1cd",
      "701aa81ee0024c9f841e9fa85fcb1162",
      "a5dbe75e686843cbbc52e6d445f49495",
      "3d0cb981314e4c08bba72a59fb834663",
      "f16d6497d26c4ebfbf53d930498271e6",
      "55fdbc782bdf46218de5018c8d321442",
      "07705fe0c6a94d65aff5838106275a01",
      "be1cae32eab04da5aa7f0a025af856de",
      "74a12e2c81224ba3b9b1cd616f3c8dd1",
      "f3557ace921e4b138363f605024a3855",
      "58e249c1683943f5867370afa80f6f1e",
      "3f4fc1efa11b4b2c9d2bbb10814fc74f",
      "5c94675feee642c8a57498c2ff1adb52",
      "a3a8f8e370d24acfa405ec4a0faa6001",
      "d47efe4ab5ec4ac186697681ead29fae",
      "b207ce4508414c4c930cd7dbe2a5ba1c",
      "526e209c27014d1e8196b1d83b5bc1b3",
      "3b8ee432e0b74c819937aaeb88e0e33f",
      "88c957bcfd444949af0411fbf4731761",
      "5d8b5c20249d4f53ac8db940401e2012",
      "6721d2d913fa42c78e6289512106b239",
      "6a40e0fa8bef444fac606d02c38ebebb",
      "373a2a001eec4ffcb29a5b5e092aa875",
      "6a7cfdcdd8a841dd85809fcfefe0c795",
      "402a36abc9e04faf921c87ab66138dea",
      "5dc9be173963453aacff571a96a86254",
      "65ddcf9fccde4a13bce38b412cb29794",
      "d0d68f83f47c423fb9d2fca99b1b1e5c",
      "dada2ab5f4954143b8b2a5d4fe4b1d7c",
      "1338f6b6567e423ea70ea99b471936e1",
      "986d94df434148dfad089c04973779c3",
      "b51d045b10a24f0788fd5e7f1c049c44",
      "cb8b111f08404b05bf1c665951e9b9bb"
     ]
    },
    "id": "7M34zSVlQqVP",
    "outputId": "d1ab3e1a-b116-45ea-95d7-a740e5b64962"
   },
   "outputs": [
    {
     "name": "stdout",
     "output_type": "stream",
     "text": [
      "Files in /home/jovyan/tasks/Portuguese_Glove_Embeddings_Sentence_Classification: ['.ipynb_checkpoints', 'Experiment.ipynb', 'glove_dir', 'lightning_logs', 'download.php?file=embeddings%2Fglove%2Fglove_s300.zip', 'Deployment.ipynb', 'Model_Lightning.py', 'Dataset.py', 'tmpdata']\n",
      "Saving checkpoints to /home/jovyan/tasks/Portuguese_Glove_Embeddings_Sentence_Classification\n"
     ]
    },
    {
     "data": {
      "application/vnd.jupyter.widget-view+json": {
       "model_id": "4c336a217f6b489ca33a5fd4ad978552",
       "version_major": 2,
       "version_minor": 0
      },
      "text/plain": [
       "HBox(children=(FloatProgress(value=1.0, bar_style='info', description='Validation sanity check', layout=Layout…"
      ]
     },
     "metadata": {},
     "output_type": "display_data"
    },
    {
     "name": "stdout",
     "output_type": "stream",
     "text": [
      "\r"
     ]
    },
    {
     "data": {
      "application/vnd.jupyter.widget-view+json": {
       "model_id": "992efb352f564e81b971db7dde6ede4a",
       "version_major": 2,
       "version_minor": 0
      },
      "text/plain": [
       "HBox(children=(FloatProgress(value=1.0, bar_style='info', description='Training', layout=Layout(flex='2'), max…"
      ]
     },
     "metadata": {},
     "output_type": "display_data"
    }
   ],
   "source": [
    "from pytorch_lightning.callbacks import ModelCheckpoint\n",
    "import os\n",
    "checkpoint_path = cwd + '/epoch=199.ckpt'\n",
    "checkpoint_dir = os.path.dirname(os.path.abspath(checkpoint_path))\n",
    "print(f'Files in {checkpoint_dir}: {os.listdir(checkpoint_dir)}')\n",
    "print(f'Saving checkpoints to {checkpoint_dir}')\n",
    "checkpoint_callback = ModelCheckpoint(filepath=checkpoint_dir, save_top_k=-1,monitor=\"val_acc\")  # Keeps all checkpoints.\n",
    "\n",
    "resume_from_checkpoint = None\n",
    "if os.path.exists(checkpoint_path):\n",
    "    weights_retrieved = True\n",
    "    print(f'Restoring checkpoint: {checkpoint_path}')\n",
    "    resume_from_checkpoint = checkpoint_path\n",
    "else:\n",
    "    weights_retrieved = False\n",
    "trainer = pl.Trainer(gpus=0,\n",
    "                     max_epochs=max_epochs,\n",
    "                     check_val_every_n_epoch=50,\n",
    "                     profiler=True,\n",
    "                     checkpoint_callback=checkpoint_callback,\n",
    "                     progress_bar_refresh_rate=50,\n",
    "                     resume_from_checkpoint=resume_from_checkpoint)\n",
    "\n",
    "model = GloveFinetuner(hyperparams=hyperparams,\n",
    "                       model_parameters=model_parameters,\n",
    "                       dataset_infos=dataset_infos,\n",
    "                       extra_infos = extra_infos) \n",
    "\n",
    "trainer.fit(model)"
   ]
  },
  {
   "cell_type": "code",
   "execution_count": null,
   "metadata": {
    "colab": {
     "base_uri": "https://localhost:8080/",
     "height": 190,
     "referenced_widgets": [
      "af37e6d51c164e318e6ded3920d0c7c3",
      "a798b6e3767f41cd8c255ab069897715",
      "9f8cf4058afc4451a74f20dde60455d4",
      "5af3d0d496d045be845d885e20457584",
      "800ba9c1cab84f21a785a8122f7fb04c",
      "3725249ee30b4d36841bb1d2a823128f",
      "8984dd7a78b343d89c7aaadb78d34be3",
      "5dddb0f5f30f4360893d5e41a27b1ffc"
     ]
    },
    "id": "q39ZAPr30Mxx",
    "outputId": "30fabef6-7538-4727-9511-7919bcbee4c2"
   },
   "outputs": [],
   "source": [
    "trainer.test(model)"
   ]
  },
  {
   "cell_type": "markdown",
   "metadata": {
    "id": "qaqRIsZakBvU"
   },
   "source": [
    "Visualizando resultados"
   ]
  },
  {
   "cell_type": "code",
   "execution_count": null,
   "metadata": {
    "colab": {
     "base_uri": "https://localhost:8080/",
     "height": 416
    },
    "id": "Zu1OeX8f_HKi",
    "outputId": "f6c03118-530b-42ac-b2e0-89a5230eca7e"
   },
   "outputs": [
    {
     "data": {
      "text/html": [
       "<div>\n",
       "<style scoped>\n",
       "    .dataframe tbody tr th:only-of-type {\n",
       "        vertical-align: middle;\n",
       "    }\n",
       "\n",
       "    .dataframe tbody tr th {\n",
       "        vertical-align: top;\n",
       "    }\n",
       "\n",
       "    .dataframe thead th {\n",
       "        text-align: right;\n",
       "    }\n",
       "</style>\n",
       "<table border=\"1\" class=\"dataframe\">\n",
       "  <thead>\n",
       "    <tr style=\"text-align: right;\">\n",
       "      <th></th>\n",
       "      <th>ORIGINAL_TARGET</th>\n",
       "      <th>ORIGINAL_CODE</th>\n",
       "      <th>PREDICTED_TARGET</th>\n",
       "      <th>PREDICTED_CODE</th>\n",
       "      <th>REQ_PROBA</th>\n",
       "      <th>INC_PROBA</th>\n",
       "    </tr>\n",
       "  </thead>\n",
       "  <tbody>\n",
       "    <tr>\n",
       "      <th>0</th>\n",
       "      <td>Requisição</td>\n",
       "      <td>1</td>\n",
       "      <td>Incidente</td>\n",
       "      <td>0</td>\n",
       "      <td>5.239757e-01</td>\n",
       "      <td>0.476024</td>\n",
       "    </tr>\n",
       "    <tr>\n",
       "      <th>1</th>\n",
       "      <td>Requisição</td>\n",
       "      <td>1</td>\n",
       "      <td>Incidente</td>\n",
       "      <td>0</td>\n",
       "      <td>5.174932e-01</td>\n",
       "      <td>0.482507</td>\n",
       "    </tr>\n",
       "    <tr>\n",
       "      <th>2</th>\n",
       "      <td>Incidente</td>\n",
       "      <td>0</td>\n",
       "      <td>Incidente</td>\n",
       "      <td>0</td>\n",
       "      <td>5.206411e-01</td>\n",
       "      <td>0.479359</td>\n",
       "    </tr>\n",
       "    <tr>\n",
       "      <th>3</th>\n",
       "      <td>Requisição</td>\n",
       "      <td>1</td>\n",
       "      <td>Incidente</td>\n",
       "      <td>0</td>\n",
       "      <td>5.294199e-01</td>\n",
       "      <td>0.470580</td>\n",
       "    </tr>\n",
       "    <tr>\n",
       "      <th>4</th>\n",
       "      <td>Requisição</td>\n",
       "      <td>1</td>\n",
       "      <td>Incidente</td>\n",
       "      <td>0</td>\n",
       "      <td>5.098634e-01</td>\n",
       "      <td>0.490137</td>\n",
       "    </tr>\n",
       "    <tr>\n",
       "      <th>...</th>\n",
       "      <td>...</td>\n",
       "      <td>...</td>\n",
       "      <td>...</td>\n",
       "      <td>...</td>\n",
       "      <td>...</td>\n",
       "      <td>...</td>\n",
       "    </tr>\n",
       "    <tr>\n",
       "      <th>4487</th>\n",
       "      <td>Requisição</td>\n",
       "      <td>1</td>\n",
       "      <td>Incidente</td>\n",
       "      <td>0</td>\n",
       "      <td>8.972948e-01</td>\n",
       "      <td>0.102705</td>\n",
       "    </tr>\n",
       "    <tr>\n",
       "      <th>4488</th>\n",
       "      <td>Requisição</td>\n",
       "      <td>1</td>\n",
       "      <td>Requisição</td>\n",
       "      <td>1</td>\n",
       "      <td>9.769307e-11</td>\n",
       "      <td>1.000000</td>\n",
       "    </tr>\n",
       "    <tr>\n",
       "      <th>4489</th>\n",
       "      <td>Requisição</td>\n",
       "      <td>1</td>\n",
       "      <td>Incidente</td>\n",
       "      <td>0</td>\n",
       "      <td>5.858974e-01</td>\n",
       "      <td>0.414103</td>\n",
       "    </tr>\n",
       "    <tr>\n",
       "      <th>4490</th>\n",
       "      <td>Requisição</td>\n",
       "      <td>1</td>\n",
       "      <td>Incidente</td>\n",
       "      <td>0</td>\n",
       "      <td>8.555567e-01</td>\n",
       "      <td>0.144443</td>\n",
       "    </tr>\n",
       "    <tr>\n",
       "      <th>4491</th>\n",
       "      <td>Requisição</td>\n",
       "      <td>1</td>\n",
       "      <td>Requisição</td>\n",
       "      <td>1</td>\n",
       "      <td>4.178880e-01</td>\n",
       "      <td>0.582112</td>\n",
       "    </tr>\n",
       "  </tbody>\n",
       "</table>\n",
       "<p>4492 rows × 6 columns</p>\n",
       "</div>"
      ],
      "text/plain": [
       "     ORIGINAL_TARGET ORIGINAL_CODE  ...     REQ_PROBA INC_PROBA\n",
       "0         Requisição             1  ...  5.239757e-01  0.476024\n",
       "1         Requisição             1  ...  5.174932e-01  0.482507\n",
       "2          Incidente             0  ...  5.206411e-01  0.479359\n",
       "3         Requisição             1  ...  5.294199e-01  0.470580\n",
       "4         Requisição             1  ...  5.098634e-01  0.490137\n",
       "...              ...           ...  ...           ...       ...\n",
       "4487      Requisição             1  ...  8.972948e-01  0.102705\n",
       "4488      Requisição             1  ...  9.769307e-11  1.000000\n",
       "4489      Requisição             1  ...  5.858974e-01  0.414103\n",
       "4490      Requisição             1  ...  8.555567e-01  0.144443\n",
       "4491      Requisição             1  ...  4.178880e-01  0.582112\n",
       "\n",
       "[4492 rows x 6 columns]"
      ]
     },
     "execution_count": 168,
     "metadata": {
      "tags": []
     },
     "output_type": "execute_result"
    }
   ],
   "source": [
    "model.df_valid"
   ]
  },
  {
   "cell_type": "code",
   "execution_count": null,
   "metadata": {
    "colab": {
     "base_uri": "https://localhost:8080/",
     "height": 416
    },
    "id": "k371h_Xm0NYv",
    "outputId": "457ec5a8-bf23-46de-e81c-a7cd51e86607"
   },
   "outputs": [
    {
     "data": {
      "text/html": [
       "<div>\n",
       "<style scoped>\n",
       "    .dataframe tbody tr th:only-of-type {\n",
       "        vertical-align: middle;\n",
       "    }\n",
       "\n",
       "    .dataframe tbody tr th {\n",
       "        vertical-align: top;\n",
       "    }\n",
       "\n",
       "    .dataframe thead th {\n",
       "        text-align: right;\n",
       "    }\n",
       "</style>\n",
       "<table border=\"1\" class=\"dataframe\">\n",
       "  <thead>\n",
       "    <tr style=\"text-align: right;\">\n",
       "      <th></th>\n",
       "      <th>ORIGINAL_TARGET</th>\n",
       "      <th>ORIGINAL_CODE</th>\n",
       "      <th>PREDICTED_TARGET</th>\n",
       "      <th>PREDICTED_CODE</th>\n",
       "      <th>REQ_PROBA</th>\n",
       "      <th>INC_PROBA</th>\n",
       "    </tr>\n",
       "  </thead>\n",
       "  <tbody>\n",
       "    <tr>\n",
       "      <th>0</th>\n",
       "      <td>Requisição</td>\n",
       "      <td>1</td>\n",
       "      <td>Requisição</td>\n",
       "      <td>1</td>\n",
       "      <td>1.229433e-02</td>\n",
       "      <td>0.987706</td>\n",
       "    </tr>\n",
       "    <tr>\n",
       "      <th>1</th>\n",
       "      <td>Requisição</td>\n",
       "      <td>1</td>\n",
       "      <td>Requisição</td>\n",
       "      <td>1</td>\n",
       "      <td>2.400748e-04</td>\n",
       "      <td>0.999760</td>\n",
       "    </tr>\n",
       "    <tr>\n",
       "      <th>2</th>\n",
       "      <td>Requisição</td>\n",
       "      <td>1</td>\n",
       "      <td>Requisição</td>\n",
       "      <td>1</td>\n",
       "      <td>1.326781e-03</td>\n",
       "      <td>0.998673</td>\n",
       "    </tr>\n",
       "    <tr>\n",
       "      <th>3</th>\n",
       "      <td>Requisição</td>\n",
       "      <td>1</td>\n",
       "      <td>Requisição</td>\n",
       "      <td>1</td>\n",
       "      <td>1.599008e-07</td>\n",
       "      <td>1.000000</td>\n",
       "    </tr>\n",
       "    <tr>\n",
       "      <th>4</th>\n",
       "      <td>Requisição</td>\n",
       "      <td>1</td>\n",
       "      <td>Incidente</td>\n",
       "      <td>0</td>\n",
       "      <td>9.931451e-01</td>\n",
       "      <td>0.006855</td>\n",
       "    </tr>\n",
       "    <tr>\n",
       "      <th>...</th>\n",
       "      <td>...</td>\n",
       "      <td>...</td>\n",
       "      <td>...</td>\n",
       "      <td>...</td>\n",
       "      <td>...</td>\n",
       "      <td>...</td>\n",
       "    </tr>\n",
       "    <tr>\n",
       "      <th>1068</th>\n",
       "      <td>Requisição</td>\n",
       "      <td>1</td>\n",
       "      <td>Requisição</td>\n",
       "      <td>1</td>\n",
       "      <td>5.147159e-11</td>\n",
       "      <td>1.000000</td>\n",
       "    </tr>\n",
       "    <tr>\n",
       "      <th>1069</th>\n",
       "      <td>Requisição</td>\n",
       "      <td>1</td>\n",
       "      <td>Requisição</td>\n",
       "      <td>1</td>\n",
       "      <td>7.922755e-14</td>\n",
       "      <td>1.000000</td>\n",
       "    </tr>\n",
       "    <tr>\n",
       "      <th>1070</th>\n",
       "      <td>Requisição</td>\n",
       "      <td>1</td>\n",
       "      <td>Requisição</td>\n",
       "      <td>1</td>\n",
       "      <td>3.657848e-06</td>\n",
       "      <td>0.999996</td>\n",
       "    </tr>\n",
       "    <tr>\n",
       "      <th>1071</th>\n",
       "      <td>Requisição</td>\n",
       "      <td>1</td>\n",
       "      <td>Requisição</td>\n",
       "      <td>1</td>\n",
       "      <td>3.732261e-02</td>\n",
       "      <td>0.962677</td>\n",
       "    </tr>\n",
       "    <tr>\n",
       "      <th>1072</th>\n",
       "      <td>Incidente</td>\n",
       "      <td>0</td>\n",
       "      <td>Incidente</td>\n",
       "      <td>0</td>\n",
       "      <td>9.653389e-01</td>\n",
       "      <td>0.034661</td>\n",
       "    </tr>\n",
       "  </tbody>\n",
       "</table>\n",
       "<p>1073 rows × 6 columns</p>\n",
       "</div>"
      ],
      "text/plain": [
       "     ORIGINAL_TARGET ORIGINAL_CODE  ...     REQ_PROBA INC_PROBA\n",
       "0         Requisição             1  ...  1.229433e-02  0.987706\n",
       "1         Requisição             1  ...  2.400748e-04  0.999760\n",
       "2         Requisição             1  ...  1.326781e-03  0.998673\n",
       "3         Requisição             1  ...  1.599008e-07  1.000000\n",
       "4         Requisição             1  ...  9.931451e-01  0.006855\n",
       "...              ...           ...  ...           ...       ...\n",
       "1068      Requisição             1  ...  5.147159e-11  1.000000\n",
       "1069      Requisição             1  ...  7.922755e-14  1.000000\n",
       "1070      Requisição             1  ...  3.657848e-06  0.999996\n",
       "1071      Requisição             1  ...  3.732261e-02  0.962677\n",
       "1072       Incidente             0  ...  9.653389e-01  0.034661\n",
       "\n",
       "[1073 rows x 6 columns]"
      ]
     },
     "execution_count": 169,
     "metadata": {
      "tags": []
     },
     "output_type": "execute_result"
    }
   ],
   "source": [
    "model.df_test"
   ]
  },
  {
   "cell_type": "markdown",
   "metadata": {
    "id": "ixAqwyc4w7pF"
   },
   "source": [
    "## Visualização do desempenho\n",
    "A [**Matriz de Confusão**](https://en.wikipedia.org/wiki/Confusion_matrix) (Confusion Matrix) é uma tabela que nos permite a visualização do desempenho de um algoritmo de classificação. <br>\n",
    "É extremamente útil para mensurar [Accuracy](https://en.wikipedia.org/wiki/Accuracy_and_precision#In_binary_classification), [Recall, Precision, and F-measure](https://en.wikipedia.org/wiki/Precision_and_recall)."
   ]
  },
  {
   "cell_type": "code",
   "execution_count": null,
   "metadata": {
    "id": "tTVDG4NlxVsg"
   },
   "outputs": [],
   "source": [
    "from sklearn.metrics import confusion_matrix\n",
    "from sklearn.metrics import precision_recall_fscore_support\n",
    "from sklearn.metrics import accuracy_score\n",
    "\n",
    "# uses the model to make predictions on the Test Dataset\n",
    "y_pred = list(model.df_test['PREDICTED_CODE']) \n",
    "y_prob =  [[a,b] for a,b in zip(list(model.df_test['REQ_PROBA']),list(model.df_test['INC_PROBA']))]\n",
    "\n",
    "# computes confusion matrix\n",
    "labels = np.unique(y)\n",
    "data = confusion_matrix(y_test, y_pred, labels=labels)\n",
    "\n",
    "# computes precision, recall, f1-score, support (for multiclass classification problem) and accuracy\n",
    "if len(labels) > 2:\n",
    "    # multiclass classification\n",
    "    p, r, f1, s = precision_recall_fscore_support(y_test, y_pred,\n",
    "                                                  labels=labels,\n",
    "                                                  average=None)\n",
    "    \n",
    "    commom_metrics = pd.DataFrame(data=zip(p, r, f1, s),columns=['Precision','Recall','F1-Score','Support']) \n",
    "    \n",
    "    average_options = ('micro', 'macro', 'weighted')\n",
    "    for average in average_options:\n",
    "        if average.startswith('micro'):\n",
    "            line_heading = 'accuracy'\n",
    "        else:\n",
    "            line_heading = average + ' avg'\n",
    "\n",
    "        # compute averages with specified averaging method\n",
    "        avg_p, avg_r, avg_f1, _ = precision_recall_fscore_support(\n",
    "            y_test, y_pred, labels=labels,\n",
    "            average=average)\n",
    "        avg = pd.Series({'Precision':avg_p,  'Recall':avg_r,  'F1-Score':avg_f1,  'Support':np.sum(s)},name=line_heading)\n",
    "        commom_metrics = commom_metrics.append(avg)\n",
    "else:\n",
    "    # binary classification\n",
    "    p, r, f1, _ = precision_recall_fscore_support(y_test, y_pred,\n",
    "                                                  average='binary')\n",
    "    accuracy=accuracy_score(y_test, y_pred)\n",
    "    commom_metrics = pd.DataFrame(data={'Precision':p,'Recall':r,'F1-Score':f1,'Accuracy':accuracy},index=[1])\n",
    "\n",
    "# puts matrix in pandas.DataFrame for better format\n",
    "labels = label_encoder.inverse_transform(labels)\n",
    "confusion_matrix = pd.DataFrame(data, columns=labels, index=labels)\n",
    "\n",
    "# add correct index labels to commom_metrics DataFrame (for multiclass classification)\n",
    "if len(labels)>2:\n",
    "    as_list = commom_metrics.index.tolist()\n",
    "    as_list[0:len(labels)] = labels\n",
    "    commom_metrics.index = as_list"
   ]
  },
  {
   "cell_type": "code",
   "execution_count": null,
   "metadata": {
    "colab": {
     "base_uri": "https://localhost:8080/",
     "height": 110
    },
    "id": "ZOGWZZYt71aL",
    "outputId": "bd7355e4-0f8a-4595-919b-8788d23347ec"
   },
   "outputs": [
    {
     "data": {
      "text/html": [
       "<div>\n",
       "<style scoped>\n",
       "    .dataframe tbody tr th:only-of-type {\n",
       "        vertical-align: middle;\n",
       "    }\n",
       "\n",
       "    .dataframe tbody tr th {\n",
       "        vertical-align: top;\n",
       "    }\n",
       "\n",
       "    .dataframe thead th {\n",
       "        text-align: right;\n",
       "    }\n",
       "</style>\n",
       "<table border=\"1\" class=\"dataframe\">\n",
       "  <thead>\n",
       "    <tr style=\"text-align: right;\">\n",
       "      <th></th>\n",
       "      <th>Incidente</th>\n",
       "      <th>Requisição</th>\n",
       "    </tr>\n",
       "  </thead>\n",
       "  <tbody>\n",
       "    <tr>\n",
       "      <th>Incidente</th>\n",
       "      <td>197</td>\n",
       "      <td>55</td>\n",
       "    </tr>\n",
       "    <tr>\n",
       "      <th>Requisição</th>\n",
       "      <td>143</td>\n",
       "      <td>678</td>\n",
       "    </tr>\n",
       "  </tbody>\n",
       "</table>\n",
       "</div>"
      ],
      "text/plain": [
       "            Incidente  Requisição\n",
       "Incidente         197          55\n",
       "Requisição        143         678"
      ]
     },
     "execution_count": 171,
     "metadata": {
      "tags": []
     },
     "output_type": "execute_result"
    }
   ],
   "source": [
    "confusion_matrix"
   ]
  },
  {
   "cell_type": "code",
   "execution_count": null,
   "metadata": {
    "colab": {
     "base_uri": "https://localhost:8080/",
     "height": 80
    },
    "id": "sDnjJfWP7zZi",
    "outputId": "d0043315-8b65-4ed8-f26d-9acc48a5da4d"
   },
   "outputs": [
    {
     "data": {
      "text/html": [
       "<div>\n",
       "<style scoped>\n",
       "    .dataframe tbody tr th:only-of-type {\n",
       "        vertical-align: middle;\n",
       "    }\n",
       "\n",
       "    .dataframe tbody tr th {\n",
       "        vertical-align: top;\n",
       "    }\n",
       "\n",
       "    .dataframe thead th {\n",
       "        text-align: right;\n",
       "    }\n",
       "</style>\n",
       "<table border=\"1\" class=\"dataframe\">\n",
       "  <thead>\n",
       "    <tr style=\"text-align: right;\">\n",
       "      <th></th>\n",
       "      <th>Precision</th>\n",
       "      <th>Recall</th>\n",
       "      <th>F1-Score</th>\n",
       "      <th>Accuracy</th>\n",
       "    </tr>\n",
       "  </thead>\n",
       "  <tbody>\n",
       "    <tr>\n",
       "      <th>1</th>\n",
       "      <td>0.924966</td>\n",
       "      <td>0.825822</td>\n",
       "      <td>0.872587</td>\n",
       "      <td>0.815471</td>\n",
       "    </tr>\n",
       "  </tbody>\n",
       "</table>\n",
       "</div>"
      ],
      "text/plain": [
       "   Precision    Recall  F1-Score  Accuracy\n",
       "1   0.924966  0.825822  0.872587  0.815471"
      ]
     },
     "execution_count": 172,
     "metadata": {
      "tags": []
     },
     "output_type": "execute_result"
    }
   ],
   "source": [
    "commom_metrics"
   ]
  },
  {
   "cell_type": "markdown",
   "metadata": {
    "id": "AZrnbPzjxvRa"
   },
   "source": [
    "## Salva métricas\n",
    "\n",
    "Utiliza a função `save_metrics` do [SDK da PlatIAgro](https://platiagro.github.io/sdk/) para salvar métricas. Por exemplo: `accuracy`, `precision`, `r2_score`, `custom_score` etc.<br>"
   ]
  },
  {
   "cell_type": "code",
   "execution_count": null,
   "metadata": {
    "id": "I5Cl7HVdzAEZ",
    "outputId": "a8467344-cd6e-4ec8-a084-1d6100796947"
   },
   "outputs": [
    {
     "data": {
      "text/plain": [
       "<Figure size 432x288 with 0 Axes>"
      ]
     },
     "metadata": {
      "tags": []
     },
     "output_type": "display_data"
    }
   ],
   "source": [
    "from platiagro import save_metrics\n",
    "\n",
    "save_metrics(confusion_matrix=confusion_matrix,commom_metrics=commom_metrics)"
   ]
  },
  {
   "cell_type": "markdown",
   "metadata": {
    "id": "Gr2CzFwgy67g"
   },
   "source": [
    "## Salva figuras\n",
    "\n",
    "Utiliza a função `save_figures` do [SDK da PlatIAgro](https://platiagro.github.io/sdk/) para salvar figuras do [matplotlib](https://matplotlib.org/3.2.1/gallery/index.html). <br>\n",
    "\n",
    "A avaliação do desempenho do modelo pode ser feita por meio da análise da [Curva ROC (ROC)](https://pt.wikipedia.org/wiki/Caracter%C3%ADstica_de_Opera%C3%A7%C3%A3o_do_Receptor).  Esse gráfico permite avaliar a performance de um classificador binário para diferentes pontos de cortes. A métrica [AUC (Area under curve)](https://en.wikipedia.org/wiki/Receiver_operating_characteristic#Area_under_the_curve) também é calculada e indicada na legenda do gráfico.<br>\n",
    "Se a variável resposta tiver mais de duas categorias, o cálculo da curva ROC e AUC é feito utilizando o algoritmo [one-vs-rest](https://scikit-learn.org/stable/modules/model_evaluation.html#roc-metrics), ou seja, calcula-se a curva ROC e AUC de cada classe em relação ao restante."
   ]
  },
  {
   "cell_type": "code",
   "execution_count": null,
   "metadata": {
    "colab": {
     "base_uri": "https://localhost:8080/",
     "height": 1000
    },
    "id": "-EQgFvXAy7uC",
    "outputId": "d8310709-ead6-443e-a6f1-492cdd90ae91"
   },
   "outputs": [
    {
     "data": {
      "image/png": "[encoded data removed]",
      "text/plain": [
       "<Figure size 432x288 with 1 Axes>"
      ]
     },
     "metadata": {
      "needs_background": "light",
      "tags": []
     },
     "output_type": "display_data"
    },
    {
     "data": {
      "image/png": "[encoded data removed]",
      "text/plain": [
       "<Figure size 432x288 with 2 Axes>"
      ]
     },
     "metadata": {
      "needs_background": "light",
      "tags": []
     },
     "output_type": "display_data"
    },
    {
     "data": {
      "image/png": "[encoded data removed]",
      "text/plain": [
       "<Figure size 432x288 with 2 Axes>"
      ]
     },
     "metadata": {
      "needs_background": "light",
      "tags": []
     },
     "output_type": "display_data"
    },
    {
     "data": {
      "image/png": "[encoded data removed]",
      "text/plain": [
       "<Figure size 432x288 with 2 Axes>"
      ]
     },
     "metadata": {
      "needs_background": "light",
      "tags": []
     },
     "output_type": "display_data"
    },
    {
     "data": {
      "image/png": "[encoded data removed]",
      "text/plain": [
       "<Figure size 432x288 with 2 Axes>"
      ]
     },
     "metadata": {
      "needs_background": "light",
      "tags": []
     },
     "output_type": "display_data"
    }
   ],
   "source": [
    "from matplotlib.pyplot import cm\n",
    "#from platiagro import save_figure\n",
    "#from platiagro import list_figures\n",
    "from sklearn.metrics import roc_curve, auc\n",
    "from sklearn import preprocessing\n",
    "import matplotlib.pyplot as plt\n",
    "\n",
    "y_pred = list(model.df_test['PREDICTED_CODE']) \n",
    "y_prob =  [[a,b] for a,b in zip(list(model.df_test['REQ_PROBA']),list(model.df_test['INC_PROBA']))]\n",
    "\n",
    "def plot_roc_curve(y_test,y_prob,labels):\n",
    "    n_classes = len(labels)\n",
    "    y_test = list(y_test)\n",
    "    y_prob=np.array(y_prob)\n",
    "\n",
    "    if n_classes == 2:\n",
    "        # Compute ROC curve \n",
    "        fpr, tpr, _ = roc_curve(y_test, y_prob[:, 1])\n",
    "        roc_auc = auc(fpr, tpr)  \n",
    "        \n",
    "        # Plot ROC Curve\n",
    "        plt.figure()\n",
    "        lw = 2\n",
    "        plt.plot(fpr, tpr, color='darkorange',\n",
    "         lw=lw, label='ROC curve (area = %0.2f)' % roc_auc)\n",
    "        plt.plot([0, 1], [0, 1], color='navy', lw=lw, linestyle='--')\n",
    "        plt.xlim([-0.01, 1.0])\n",
    "        plt.ylim([0.0, 1.05])\n",
    "        plt.xlabel('False Positive Rate')\n",
    "        plt.ylabel('True Positive Rate')\n",
    "        plt.title('ROC Curve')\n",
    "        plt.legend(loc=\"lower right\")\n",
    "        plt.show()\n",
    "        \n",
    "    else:  \n",
    "        # Binarize the output\n",
    "        lb = preprocessing.LabelBinarizer()\n",
    "        y_test_bin = lb.fit_transform(y_test)\n",
    "\n",
    "        # Compute ROC curve for each class\n",
    "        fpr = dict()\n",
    "        tpr = dict()\n",
    "        roc_auc = dict()  \n",
    "\n",
    "        for i in range(n_classes):\n",
    "            fpr[i], tpr[i], _ = roc_curve(y_test_bin[:, i], y_prob[:, i])\n",
    "            roc_auc[i] = auc(fpr[i], tpr[i])\n",
    "        \n",
    "        color=cm.rainbow(np.linspace(0,1,n_classes+1))\n",
    "        plt.figure()\n",
    "        lw = 2\n",
    "        plt.plot([0, 1], [0, 1], color='navy', lw=lw, linestyle='--')\n",
    "        plt.xlim([-0.01, 1.0])\n",
    "        plt.ylim([0.0, 1.05])\n",
    "        plt.xlabel('False Positive Rate')\n",
    "        plt.ylabel('True Positive Rate')\n",
    "        \n",
    "        for i,c in zip(range(n_classes),color):                   \n",
    "            plt.plot(fpr[i], tpr[i], color=c,\n",
    "             lw=lw, label='ROC curve - Class %s (area = %0.2f)' % (labels[i] ,roc_auc[i]))\n",
    "            plt.title('ROC Curve One-vs-Rest')\n",
    "            plt.legend(loc=\"lower right\")\n",
    "        \n",
    "        plt.show()\n",
    "\n",
    "#funciona apenas quando se treina o modelo, quando recupera os pesos aparentemente não está\n",
    "def performance_visualization(loss_list, acc_list,epoch_or_batch=\"Epoch\",step = \"Train\"):\n",
    "\n",
    "    x = range(len(loss_list))\n",
    "    plt.title(step + ' Loss Performance')\n",
    "    \n",
    "    # Loss plot\n",
    "    plt.subplot(1, 2, 1)\n",
    "    plt.xlabel(epoch_or_batch)\n",
    "    plt.ylabel(\"Loss\")\n",
    "    plt.plot(x, loss_list, '-')\n",
    "    plt.title(step + ' Loss Performance')\n",
    "\n",
    "    # Accuracy plot\n",
    "    plt.subplot(1, 2, 2)\n",
    "    plt.xlabel(epoch_or_batch)\n",
    "    plt.ylabel(\"Accuracy\")\n",
    "    plt.plot(x, acc_list, '-')\n",
    "    plt.title(step + '  Acc Performance')\n",
    "\n",
    "    plt.subplots_adjust(wspace=0.4)\n",
    "    plt.suptitle(epoch_or_batch + ' - ' + step)\n",
    "    plt.show()\n",
    "\n",
    "#Plotando as curvas\n",
    "plot_roc_curve(y_test,y_prob,labels)\n",
    "if not weights_retrieved:\n",
    "  performance_visualization(model.df_performance_train_batch['train_batch_loss'].to_numpy(), model.df_performance_train_batch['train_batch_acc'].to_numpy(),epoch_or_batch=\"Batch\",step = \"Train\")\n",
    "  performance_visualization(model.df_performance_train_epoch['train_epoch_loss'].to_numpy(), model.df_performance_train_epoch['train_epoch_acc'].to_numpy(),epoch_or_batch=\"Epoch\",step = \"Train\")\n",
    "  performance_visualization(model.df_performance_valid_batch['valid_batch_loss'].to_numpy(), model.df_performance_valid_batch['valid_batch_acc'].to_numpy(),epoch_or_batch=\"Batch\",step = \"Valid\")\n",
    "  performance_visualization(model.df_performance_valid_epoch['valid_epoch_loss'].to_numpy(), model.df_performance_valid_epoch['valid_epoch_acc'].to_numpy(),epoch_or_batch=\"Epoch\",step = \"Valid\")"
   ]
  },
  {
   "cell_type": "markdown",
   "metadata": {
    "id": "msQktuMzcfkR"
   },
   "source": [
    "## Salva modelo e outros artefatos"
   ]
  },
  {
   "cell_type": "markdown",
   "metadata": {
    "id": "26U-k1jnkBv8"
   },
   "source": [
    "Modelo Pytorch Lightining"
   ]
  },
  {
   "cell_type": "code",
   "execution_count": null,
   "metadata": {
    "id": "bGJTBq_ZkBv9"
   },
   "outputs": [],
   "source": [
    "file_name = 'pytorch_model.pt'\n",
    "torch.save(model.state_dict(), f'/tmp/data/{file_name}')"
   ]
  },
  {
   "cell_type": "markdown",
   "metadata": {
    "id": "0dSIM1klkBwE"
   },
   "source": [
    "Artefatos"
   ]
  },
  {
   "cell_type": "code",
   "execution_count": null,
   "metadata": {
    "id": "DF_B2lfQcfkS"
   },
   "outputs": [],
   "source": [
    "import pickle\n",
    "dataset_infos = {'all_data':all_data}\n",
    "deployment_infos = {'columns':columns,'X_test':X_test,'glove_vocab':glove_vocab}\n",
    "artifacts = {'hyperparams':hyperparams,'model_parameters':model_parameters,'dataset_infos':dataset_infos,'extra_infos':extra_infos,'deployment_infos':deployment_infos}\n",
    "file_name = 'artifacts.p'\n",
    "pickle.dump(artifacts, open(f'/tmp/data/{file_name}', \"wb\" ))"
   ]
  }
 ],
 "metadata": {
  "accelerator": "GPU",
  "celltoolbar": "Tags",
  "colab": {
   "collapsed_sections": [],
   "name": "Experiment.ipynb",
   "provenance": [],
   "toc_visible": true
  },
  "experiment_id": "d930015c-45a2-42eb-912a-541ce198cee6",
  "kernelspec": {
   "display_name": "Python 3",
   "language": "python",
   "name": "python3"
  },
  "language_info": {
   "codemirror_mode": {
    "name": "ipython",
    "version": 3
   },
   "file_extension": ".py",
   "mimetype": "text/x-python",
   "name": "python",
   "nbconvert_exporter": "python",
   "pygments_lexer": "ipython3",
   "version": "3.7.8"
  },
  "operator_id": "fb743ef0-6ddd-4bc1-8d14-ec82ce0ef401",
  "task_id": "d61bbbb4-fdd4-4a59-90d3-e787c31cd49d",
  "widgets": {
   "application/vnd.jupyter.widget-state+json": {
    "00537ba4617f4804be3debe8a19f809c": {
     "model_module": "@jupyter-widgets/base",
     "model_name": "LayoutModel",
     "state": {
      "_model_module": "@jupyter-widgets/base",
      "_model_module_version": "1.2.0",
      "_model_name": "LayoutModel",
      "_view_count": null,
      "_view_module": "@jupyter-widgets/base",
      "_view_module_version": "1.2.0",
      "_view_name": "LayoutView",
      "align_content": null,
      "align_items": null,
      "align_self": null,
      "border": null,
      "bottom": null,
      "display": "inline-flex",
      "flex": null,
      "flex_flow": "row wrap",
      "grid_area": null,
      "grid_auto_columns": null,
      "grid_auto_flow": null,
      "grid_auto_rows": null,
      "grid_column": null,
      "grid_gap": null,
      "grid_row": null,
      "grid_template_areas": null,
      "grid_template_columns": null,
      "grid_template_rows": null,
      "height": null,
      "justify_content": null,
      "justify_items": null,
      "left": null,
      "margin": null,
      "max_height": null,
      "max_width": null,
      "min_height": null,
      "min_width": null,
      "object_fit": null,
      "object_position": null,
      "order": null,
      "overflow": null,
      "overflow_x": null,
      "overflow_y": null,
      "padding": null,
      "right": null,
      "top": null,
      "visibility": null,
      "width": "100%"
     }
    },
    "04ffc681e2ca4c24ae0185da68973608": {
     "model_module": "@jupyter-widgets/controls",
     "model_name": "ProgressStyleModel",
     "state": {
      "_model_module": "@jupyter-widgets/controls",
      "_model_module_version": "1.5.0",
      "_model_name": "ProgressStyleModel",
      "_view_count": null,
      "_view_module": "@jupyter-widgets/base",
      "_view_module_version": "1.2.0",
      "_view_name": "StyleView",
      "bar_color": null,
      "description_width": "initial"
     }
    },
    "07705fe0c6a94d65aff5838106275a01": {
     "model_module": "@jupyter-widgets/base",
     "model_name": "LayoutModel",
     "state": {
      "_model_module": "@jupyter-widgets/base",
      "_model_module_version": "1.2.0",
      "_model_name": "LayoutModel",
      "_view_count": null,
      "_view_module": "@jupyter-widgets/base",
      "_view_module_version": "1.2.0",
      "_view_name": "LayoutView",
      "align_content": null,
      "align_items": null,
      "align_self": null,
      "border": null,
      "bottom": null,
      "display": null,
      "flex": "2",
      "flex_flow": null,
      "grid_area": null,
      "grid_auto_columns": null,
      "grid_auto_flow": null,
      "grid_auto_rows": null,
      "grid_column": null,
      "grid_gap": null,
      "grid_row": null,
      "grid_template_areas": null,
      "grid_template_columns": null,
      "grid_template_rows": null,
      "height": null,
      "justify_content": null,
      "justify_items": null,
      "left": null,
      "margin": null,
      "max_height": null,
      "max_width": null,
      "min_height": null,
      "min_width": null,
      "object_fit": null,
      "object_position": null,
      "order": null,
      "overflow": null,
      "overflow_x": null,
      "overflow_y": null,
      "padding": null,
      "right": null,
      "top": null,
      "visibility": null,
      "width": null
     }
    },
    "1338f6b6567e423ea70ea99b471936e1": {
     "model_module": "@jupyter-widgets/controls",
     "model_name": "ProgressStyleModel",
     "state": {
      "_model_module": "@jupyter-widgets/controls",
      "_model_module_version": "1.5.0",
      "_model_name": "ProgressStyleModel",
      "_view_count": null,
      "_view_module": "@jupyter-widgets/base",
      "_view_module_version": "1.2.0",
      "_view_name": "StyleView",
      "bar_color": null,
      "description_width": "initial"
     }
    },
    "1850375eeafc46679e8bf807a562deea": {
     "model_module": "@jupyter-widgets/base",
     "model_name": "LayoutModel",
     "state": {
      "_model_module": "@jupyter-widgets/base",
      "_model_module_version": "1.2.0",
      "_model_name": "LayoutModel",
      "_view_count": null,
      "_view_module": "@jupyter-widgets/base",
      "_view_module_version": "1.2.0",
      "_view_name": "LayoutView",
      "align_content": null,
      "align_items": null,
      "align_self": null,
      "border": null,
      "bottom": null,
      "display": null,
      "flex": null,
      "flex_flow": null,
      "grid_area": null,
      "grid_auto_columns": null,
      "grid_auto_flow": null,
      "grid_auto_rows": null,
      "grid_column": null,
      "grid_gap": null,
      "grid_row": null,
      "grid_template_areas": null,
      "grid_template_columns": null,
      "grid_template_rows": null,
      "height": null,
      "justify_content": null,
      "justify_items": null,
      "left": null,
      "margin": null,
      "max_height": null,
      "max_width": null,
      "min_height": null,
      "min_width": null,
      "object_fit": null,
      "object_position": null,
      "order": null,
      "overflow": null,
      "overflow_x": null,
      "overflow_y": null,
      "padding": null,
      "right": null,
      "top": null,
      "visibility": null,
      "width": null
     }
    },
    "1c9d94bdf943471e90a4effbb632036c": {
     "model_module": "@jupyter-widgets/controls",
     "model_name": "HBoxModel",
     "state": {
      "_dom_classes": [],
      "_model_module": "@jupyter-widgets/controls",
      "_model_module_version": "1.5.0",
      "_model_name": "HBoxModel",
      "_view_count": null,
      "_view_module": "@jupyter-widgets/controls",
      "_view_module_version": "1.5.0",
      "_view_name": "HBoxView",
      "box_style": "",
      "children": [
       "IPY_MODEL_94a7422ccc684224bdadc8b33c0b97ed",
       "IPY_MODEL_58ba0fe5e068490ba794e3712ea8add6"
      ],
      "layout": "IPY_MODEL_b176f60b01c748c4ac2df58ae76f295c"
     }
    },
    "1e065c49d5844fd3badde3ae136130c4": {
     "model_module": "@jupyter-widgets/base",
     "model_name": "LayoutModel",
     "state": {
      "_model_module": "@jupyter-widgets/base",
      "_model_module_version": "1.2.0",
      "_model_name": "LayoutModel",
      "_view_count": null,
      "_view_module": "@jupyter-widgets/base",
      "_view_module_version": "1.2.0",
      "_view_name": "LayoutView",
      "align_content": null,
      "align_items": null,
      "align_self": null,
      "border": null,
      "bottom": null,
      "display": "inline-flex",
      "flex": null,
      "flex_flow": "row wrap",
      "grid_area": null,
      "grid_auto_columns": null,
      "grid_auto_flow": null,
      "grid_auto_rows": null,
      "grid_column": null,
      "grid_gap": null,
      "grid_row": null,
      "grid_template_areas": null,
      "grid_template_columns": null,
      "grid_template_rows": null,
      "height": null,
      "justify_content": null,
      "justify_items": null,
      "left": null,
      "margin": null,
      "max_height": null,
      "max_width": null,
      "min_height": null,
      "min_width": null,
      "object_fit": null,
      "object_position": null,
      "order": null,
      "overflow": null,
      "overflow_x": null,
      "overflow_y": null,
      "padding": null,
      "right": null,
      "top": null,
      "visibility": null,
      "width": "100%"
     }
    },
    "2b10c7856ff74d9bbe3c26a7151d3619": {
     "model_module": "@jupyter-widgets/base",
     "model_name": "LayoutModel",
     "state": {
      "_model_module": "@jupyter-widgets/base",
      "_model_module_version": "1.2.0",
      "_model_name": "LayoutModel",
      "_view_count": null,
      "_view_module": "@jupyter-widgets/base",
      "_view_module_version": "1.2.0",
      "_view_name": "LayoutView",
      "align_content": null,
      "align_items": null,
      "align_self": null,
      "border": null,
      "bottom": null,
      "display": null,
      "flex": null,
      "flex_flow": null,
      "grid_area": null,
      "grid_auto_columns": null,
      "grid_auto_flow": null,
      "grid_auto_rows": null,
      "grid_column": null,
      "grid_gap": null,
      "grid_row": null,
      "grid_template_areas": null,
      "grid_template_columns": null,
      "grid_template_rows": null,
      "height": null,
      "justify_content": null,
      "justify_items": null,
      "left": null,
      "margin": null,
      "max_height": null,
      "max_width": null,
      "min_height": null,
      "min_width": null,
      "object_fit": null,
      "object_position": null,
      "order": null,
      "overflow": null,
      "overflow_x": null,
      "overflow_y": null,
      "padding": null,
      "right": null,
      "top": null,
      "visibility": null,
      "width": null
     }
    },
    "32688dabfd7e4389bcec860a1746610c": {
     "model_module": "@jupyter-widgets/controls",
     "model_name": "ProgressStyleModel",
     "state": {
      "_model_module": "@jupyter-widgets/controls",
      "_model_module_version": "1.5.0",
      "_model_name": "ProgressStyleModel",
      "_view_count": null,
      "_view_module": "@jupyter-widgets/base",
      "_view_module_version": "1.2.0",
      "_view_name": "StyleView",
      "bar_color": null,
      "description_width": "initial"
     }
    },
    "3725249ee30b4d36841bb1d2a823128f": {
     "model_module": "@jupyter-widgets/base",
     "model_name": "LayoutModel",
     "state": {
      "_model_module": "@jupyter-widgets/base",
      "_model_module_version": "1.2.0",
      "_model_name": "LayoutModel",
      "_view_count": null,
      "_view_module": "@jupyter-widgets/base",
      "_view_module_version": "1.2.0",
      "_view_name": "LayoutView",
      "align_content": null,
      "align_items": null,
      "align_self": null,
      "border": null,
      "bottom": null,
      "display": null,
      "flex": "2",
      "flex_flow": null,
      "grid_area": null,
      "grid_auto_columns": null,
      "grid_auto_flow": null,
      "grid_auto_rows": null,
      "grid_column": null,
      "grid_gap": null,
      "grid_row": null,
      "grid_template_areas": null,
      "grid_template_columns": null,
      "grid_template_rows": null,
      "height": null,
      "justify_content": null,
      "justify_items": null,
      "left": null,
      "margin": null,
      "max_height": null,
      "max_width": null,
      "min_height": null,
      "min_width": null,
      "object_fit": null,
      "object_position": null,
      "order": null,
      "overflow": null,
      "overflow_x": null,
      "overflow_y": null,
      "padding": null,
      "right": null,
      "top": null,
      "visibility": null,
      "width": null
     }
    },
    "373a2a001eec4ffcb29a5b5e092aa875": {
     "model_module": "@jupyter-widgets/base",
     "model_name": "LayoutModel",
     "state": {
      "_model_module": "@jupyter-widgets/base",
      "_model_module_version": "1.2.0",
      "_model_name": "LayoutModel",
      "_view_count": null,
      "_view_module": "@jupyter-widgets/base",
      "_view_module_version": "1.2.0",
      "_view_name": "LayoutView",
      "align_content": null,
      "align_items": null,
      "align_self": null,
      "border": null,
      "bottom": null,
      "display": null,
      "flex": "2",
      "flex_flow": null,
      "grid_area": null,
      "grid_auto_columns": null,
      "grid_auto_flow": null,
      "grid_auto_rows": null,
      "grid_column": null,
      "grid_gap": null,
      "grid_row": null,
      "grid_template_areas": null,
      "grid_template_columns": null,
      "grid_template_rows": null,
      "height": null,
      "justify_content": null,
      "justify_items": null,
      "left": null,
      "margin": null,
      "max_height": null,
      "max_width": null,
      "min_height": null,
      "min_width": null,
      "object_fit": null,
      "object_position": null,
      "order": null,
      "overflow": null,
      "overflow_x": null,
      "overflow_y": null,
      "padding": null,
      "right": null,
      "top": null,
      "visibility": null,
      "width": null
     }
    },
    "3b8ee432e0b74c819937aaeb88e0e33f": {
     "model_module": "@jupyter-widgets/controls",
     "model_name": "HBoxModel",
     "state": {
      "_dom_classes": [],
      "_model_module": "@jupyter-widgets/controls",
      "_model_module_version": "1.5.0",
      "_model_name": "HBoxModel",
      "_view_count": null,
      "_view_module": "@jupyter-widgets/controls",
      "_view_module_version": "1.5.0",
      "_view_name": "HBoxView",
      "box_style": "",
      "children": [
       "IPY_MODEL_5d8b5c20249d4f53ac8db940401e2012",
       "IPY_MODEL_6721d2d913fa42c78e6289512106b239"
      ],
      "layout": "IPY_MODEL_88c957bcfd444949af0411fbf4731761"
     }
    },
    "3d0cb981314e4c08bba72a59fb834663": {
     "model_module": "@jupyter-widgets/controls",
     "model_name": "FloatProgressModel",
     "state": {
      "_dom_classes": [],
      "_model_module": "@jupyter-widgets/controls",
      "_model_module_version": "1.5.0",
      "_model_name": "FloatProgressModel",
      "_view_count": null,
      "_view_module": "@jupyter-widgets/controls",
      "_view_module_version": "1.5.0",
      "_view_name": "ProgressView",
      "bar_style": "danger",
      "description": "Validating:   0%",
      "description_tooltip": null,
      "layout": "IPY_MODEL_07705fe0c6a94d65aff5838106275a01",
      "max": 1,
      "min": 0,
      "orientation": "horizontal",
      "style": "IPY_MODEL_55fdbc782bdf46218de5018c8d321442",
      "value": 0
     }
    },
    "3e70fe299c484467bafedce848ac7c5b": {
     "model_module": "@jupyter-widgets/controls",
     "model_name": "FloatProgressModel",
     "state": {
      "_dom_classes": [],
      "_model_module": "@jupyter-widgets/controls",
      "_model_module_version": "1.5.0",
      "_model_name": "FloatProgressModel",
      "_view_count": null,
      "_view_module": "@jupyter-widgets/controls",
      "_view_module_version": "1.5.0",
      "_view_name": "ProgressView",
      "bar_style": "success",
      "description": "Epoch 1: 100%",
      "description_tooltip": null,
      "layout": "IPY_MODEL_e82213013ae14f4386ea80c355939902",
      "max": 2,
      "min": 0,
      "orientation": "horizontal",
      "style": "IPY_MODEL_04ffc681e2ca4c24ae0185da68973608",
      "value": 2
     }
    },
    "3f4fc1efa11b4b2c9d2bbb10814fc74f": {
     "model_module": "@jupyter-widgets/controls",
     "model_name": "FloatProgressModel",
     "state": {
      "_dom_classes": [],
      "_model_module": "@jupyter-widgets/controls",
      "_model_module_version": "1.5.0",
      "_model_name": "FloatProgressModel",
      "_view_count": null,
      "_view_module": "@jupyter-widgets/controls",
      "_view_module_version": "1.5.0",
      "_view_name": "ProgressView",
      "bar_style": "danger",
      "description": "Validating:   0%",
      "description_tooltip": null,
      "layout": "IPY_MODEL_d47efe4ab5ec4ac186697681ead29fae",
      "max": 1,
      "min": 0,
      "orientation": "horizontal",
      "style": "IPY_MODEL_a3a8f8e370d24acfa405ec4a0faa6001",
      "value": 0
     }
    },
    "402a36abc9e04faf921c87ab66138dea": {
     "model_module": "@jupyter-widgets/base",
     "model_name": "LayoutModel",
     "state": {
      "_model_module": "@jupyter-widgets/base",
      "_model_module_version": "1.2.0",
      "_model_name": "LayoutModel",
      "_view_count": null,
      "_view_module": "@jupyter-widgets/base",
      "_view_module_version": "1.2.0",
      "_view_name": "LayoutView",
      "align_content": null,
      "align_items": null,
      "align_self": null,
      "border": null,
      "bottom": null,
      "display": null,
      "flex": null,
      "flex_flow": null,
      "grid_area": null,
      "grid_auto_columns": null,
      "grid_auto_flow": null,
      "grid_auto_rows": null,
      "grid_column": null,
      "grid_gap": null,
      "grid_row": null,
      "grid_template_areas": null,
      "grid_template_columns": null,
      "grid_template_rows": null,
      "height": null,
      "justify_content": null,
      "justify_items": null,
      "left": null,
      "margin": null,
      "max_height": null,
      "max_width": null,
      "min_height": null,
      "min_width": null,
      "object_fit": null,
      "object_position": null,
      "order": null,
      "overflow": null,
      "overflow_x": null,
      "overflow_y": null,
      "padding": null,
      "right": null,
      "top": null,
      "visibility": null,
      "width": null
     }
    },
    "478337a8b3d4428992ecbc6fd6bc366f": {
     "model_module": "@jupyter-widgets/base",
     "model_name": "LayoutModel",
     "state": {
      "_model_module": "@jupyter-widgets/base",
      "_model_module_version": "1.2.0",
      "_model_name": "LayoutModel",
      "_view_count": null,
      "_view_module": "@jupyter-widgets/base",
      "_view_module_version": "1.2.0",
      "_view_name": "LayoutView",
      "align_content": null,
      "align_items": null,
      "align_self": null,
      "border": null,
      "bottom": null,
      "display": null,
      "flex": "2",
      "flex_flow": null,
      "grid_area": null,
      "grid_auto_columns": null,
      "grid_auto_flow": null,
      "grid_auto_rows": null,
      "grid_column": null,
      "grid_gap": null,
      "grid_row": null,
      "grid_template_areas": null,
      "grid_template_columns": null,
      "grid_template_rows": null,
      "height": null,
      "justify_content": null,
      "justify_items": null,
      "left": null,
      "margin": null,
      "max_height": null,
      "max_width": null,
      "min_height": null,
      "min_width": null,
      "object_fit": null,
      "object_position": null,
      "order": null,
      "overflow": null,
      "overflow_x": null,
      "overflow_y": null,
      "padding": null,
      "right": null,
      "top": null,
      "visibility": null,
      "width": null
     }
    },
    "4d87bbf6a22c45e5b61028744d81c6e2": {
     "model_module": "@jupyter-widgets/controls",
     "model_name": "ProgressStyleModel",
     "state": {
      "_model_module": "@jupyter-widgets/controls",
      "_model_module_version": "1.5.0",
      "_model_name": "ProgressStyleModel",
      "_view_count": null,
      "_view_module": "@jupyter-widgets/base",
      "_view_module_version": "1.2.0",
      "_view_name": "StyleView",
      "bar_color": null,
      "description_width": "initial"
     }
    },
    "4faeac4689b945cda6d08102099f7777": {
     "model_module": "@jupyter-widgets/controls",
     "model_name": "DescriptionStyleModel",
     "state": {
      "_model_module": "@jupyter-widgets/controls",
      "_model_module_version": "1.5.0",
      "_model_name": "DescriptionStyleModel",
      "_view_count": null,
      "_view_module": "@jupyter-widgets/base",
      "_view_module_version": "1.2.0",
      "_view_name": "StyleView",
      "description_width": ""
     }
    },
    "5129b562b39b484a82265aacf64abfec": {
     "model_module": "@jupyter-widgets/base",
     "model_name": "LayoutModel",
     "state": {
      "_model_module": "@jupyter-widgets/base",
      "_model_module_version": "1.2.0",
      "_model_name": "LayoutModel",
      "_view_count": null,
      "_view_module": "@jupyter-widgets/base",
      "_view_module_version": "1.2.0",
      "_view_name": "LayoutView",
      "align_content": null,
      "align_items": null,
      "align_self": null,
      "border": null,
      "bottom": null,
      "display": "inline-flex",
      "flex": null,
      "flex_flow": "row wrap",
      "grid_area": null,
      "grid_auto_columns": null,
      "grid_auto_flow": null,
      "grid_auto_rows": null,
      "grid_column": null,
      "grid_gap": null,
      "grid_row": null,
      "grid_template_areas": null,
      "grid_template_columns": null,
      "grid_template_rows": null,
      "height": null,
      "justify_content": null,
      "justify_items": null,
      "left": null,
      "margin": null,
      "max_height": null,
      "max_width": null,
      "min_height": null,
      "min_width": null,
      "object_fit": null,
      "object_position": null,
      "order": null,
      "overflow": null,
      "overflow_x": null,
      "overflow_y": null,
      "padding": null,
      "right": null,
      "top": null,
      "visibility": null,
      "width": "100%"
     }
    },
    "526e209c27014d1e8196b1d83b5bc1b3": {
     "model_module": "@jupyter-widgets/base",
     "model_name": "LayoutModel",
     "state": {
      "_model_module": "@jupyter-widgets/base",
      "_model_module_version": "1.2.0",
      "_model_name": "LayoutModel",
      "_view_count": null,
      "_view_module": "@jupyter-widgets/base",
      "_view_module_version": "1.2.0",
      "_view_name": "LayoutView",
      "align_content": null,
      "align_items": null,
      "align_self": null,
      "border": null,
      "bottom": null,
      "display": null,
      "flex": null,
      "flex_flow": null,
      "grid_area": null,
      "grid_auto_columns": null,
      "grid_auto_flow": null,
      "grid_auto_rows": null,
      "grid_column": null,
      "grid_gap": null,
      "grid_row": null,
      "grid_template_areas": null,
      "grid_template_columns": null,
      "grid_template_rows": null,
      "height": null,
      "justify_content": null,
      "justify_items": null,
      "left": null,
      "margin": null,
      "max_height": null,
      "max_width": null,
      "min_height": null,
      "min_width": null,
      "object_fit": null,
      "object_position": null,
      "order": null,
      "overflow": null,
      "overflow_x": null,
      "overflow_y": null,
      "padding": null,
      "right": null,
      "top": null,
      "visibility": null,
      "width": null
     }
    },
    "55fdbc782bdf46218de5018c8d321442": {
     "model_module": "@jupyter-widgets/controls",
     "model_name": "ProgressStyleModel",
     "state": {
      "_model_module": "@jupyter-widgets/controls",
      "_model_module_version": "1.5.0",
      "_model_name": "ProgressStyleModel",
      "_view_count": null,
      "_view_module": "@jupyter-widgets/base",
      "_view_module_version": "1.2.0",
      "_view_name": "StyleView",
      "bar_color": null,
      "description_width": "initial"
     }
    },
    "58ba0fe5e068490ba794e3712ea8add6": {
     "model_module": "@jupyter-widgets/controls",
     "model_name": "HTMLModel",
     "state": {
      "_dom_classes": [],
      "_model_module": "@jupyter-widgets/controls",
      "_model_module_version": "1.5.0",
      "_model_name": "HTMLModel",
      "_view_count": null,
      "_view_module": "@jupyter-widgets/controls",
      "_view_module_version": "1.5.0",
      "_view_name": "HTMLView",
      "description": "",
      "description_tooltip": null,
      "layout": "IPY_MODEL_c64338be17b9481ba6ec47716bef91f4",
      "placeholder": "​",
      "style": "IPY_MODEL_c5bed3c7192b47c5868a29a2117389f6",
      "value": " 1/1 [00:01&lt;00:00,  1.15it/s]"
     }
    },
    "58e249c1683943f5867370afa80f6f1e": {
     "model_module": "@jupyter-widgets/base",
     "model_name": "LayoutModel",
     "state": {
      "_model_module": "@jupyter-widgets/base",
      "_model_module_version": "1.2.0",
      "_model_name": "LayoutModel",
      "_view_count": null,
      "_view_module": "@jupyter-widgets/base",
      "_view_module_version": "1.2.0",
      "_view_name": "LayoutView",
      "align_content": null,
      "align_items": null,
      "align_self": null,
      "border": null,
      "bottom": null,
      "display": "inline-flex",
      "flex": null,
      "flex_flow": "row wrap",
      "grid_area": null,
      "grid_auto_columns": null,
      "grid_auto_flow": null,
      "grid_auto_rows": null,
      "grid_column": null,
      "grid_gap": null,
      "grid_row": null,
      "grid_template_areas": null,
      "grid_template_columns": null,
      "grid_template_rows": null,
      "height": null,
      "justify_content": null,
      "justify_items": null,
      "left": null,
      "margin": null,
      "max_height": null,
      "max_width": null,
      "min_height": null,
      "min_width": null,
      "object_fit": null,
      "object_position": null,
      "order": null,
      "overflow": null,
      "overflow_x": null,
      "overflow_y": null,
      "padding": null,
      "right": null,
      "top": null,
      "visibility": null,
      "width": "100%"
     }
    },
    "5af3d0d496d045be845d885e20457584": {
     "model_module": "@jupyter-widgets/controls",
     "model_name": "HTMLModel",
     "state": {
      "_dom_classes": [],
      "_model_module": "@jupyter-widgets/controls",
      "_model_module_version": "1.5.0",
      "_model_name": "HTMLModel",
      "_view_count": null,
      "_view_module": "@jupyter-widgets/controls",
      "_view_module_version": "1.5.0",
      "_view_name": "HTMLView",
      "description": "",
      "description_tooltip": null,
      "layout": "IPY_MODEL_5dddb0f5f30f4360893d5e41a27b1ffc",
      "placeholder": "​",
      "style": "IPY_MODEL_8984dd7a78b343d89c7aaadb78d34be3",
      "value": " 0/11 [00:06&lt;?, ?it/s]"
     }
    },
    "5c94675feee642c8a57498c2ff1adb52": {
     "model_module": "@jupyter-widgets/controls",
     "model_name": "HTMLModel",
     "state": {
      "_dom_classes": [],
      "_model_module": "@jupyter-widgets/controls",
      "_model_module_version": "1.5.0",
      "_model_name": "HTMLModel",
      "_view_count": null,
      "_view_module": "@jupyter-widgets/controls",
      "_view_module_version": "1.5.0",
      "_view_name": "HTMLView",
      "description": "",
      "description_tooltip": null,
      "layout": "IPY_MODEL_526e209c27014d1e8196b1d83b5bc1b3",
      "placeholder": "​",
      "style": "IPY_MODEL_b207ce4508414c4c930cd7dbe2a5ba1c",
      "value": " 0/11 [00:12&lt;?, ?it/s]"
     }
    },
    "5d8b5c20249d4f53ac8db940401e2012": {
     "model_module": "@jupyter-widgets/controls",
     "model_name": "FloatProgressModel",
     "state": {
      "_dom_classes": [],
      "_model_module": "@jupyter-widgets/controls",
      "_model_module_version": "1.5.0",
      "_model_name": "FloatProgressModel",
      "_view_count": null,
      "_view_module": "@jupyter-widgets/controls",
      "_view_module_version": "1.5.0",
      "_view_name": "ProgressView",
      "bar_style": "danger",
      "description": "Validating:   0%",
      "description_tooltip": null,
      "layout": "IPY_MODEL_373a2a001eec4ffcb29a5b5e092aa875",
      "max": 1,
      "min": 0,
      "orientation": "horizontal",
      "style": "IPY_MODEL_6a40e0fa8bef444fac606d02c38ebebb",
      "value": 0
     }
    },
    "5dc9be173963453aacff571a96a86254": {
     "model_module": "@jupyter-widgets/controls",
     "model_name": "HBoxModel",
     "state": {
      "_dom_classes": [],
      "_model_module": "@jupyter-widgets/controls",
      "_model_module_version": "1.5.0",
      "_model_name": "HBoxModel",
      "_view_count": null,
      "_view_module": "@jupyter-widgets/controls",
      "_view_module_version": "1.5.0",
      "_view_name": "HBoxView",
      "box_style": "",
      "children": [
       "IPY_MODEL_d0d68f83f47c423fb9d2fca99b1b1e5c",
       "IPY_MODEL_dada2ab5f4954143b8b2a5d4fe4b1d7c"
      ],
      "layout": "IPY_MODEL_65ddcf9fccde4a13bce38b412cb29794"
     }
    },
    "5dddb0f5f30f4360893d5e41a27b1ffc": {
     "model_module": "@jupyter-widgets/base",
     "model_name": "LayoutModel",
     "state": {
      "_model_module": "@jupyter-widgets/base",
      "_model_module_version": "1.2.0",
      "_model_name": "LayoutModel",
      "_view_count": null,
      "_view_module": "@jupyter-widgets/base",
      "_view_module_version": "1.2.0",
      "_view_name": "LayoutView",
      "align_content": null,
      "align_items": null,
      "align_self": null,
      "border": null,
      "bottom": null,
      "display": null,
      "flex": null,
      "flex_flow": null,
      "grid_area": null,
      "grid_auto_columns": null,
      "grid_auto_flow": null,
      "grid_auto_rows": null,
      "grid_column": null,
      "grid_gap": null,
      "grid_row": null,
      "grid_template_areas": null,
      "grid_template_columns": null,
      "grid_template_rows": null,
      "height": null,
      "justify_content": null,
      "justify_items": null,
      "left": null,
      "margin": null,
      "max_height": null,
      "max_width": null,
      "min_height": null,
      "min_width": null,
      "object_fit": null,
      "object_position": null,
      "order": null,
      "overflow": null,
      "overflow_x": null,
      "overflow_y": null,
      "padding": null,
      "right": null,
      "top": null,
      "visibility": null,
      "width": null
     }
    },
    "6136323be6c84fee90c948e9ca05e1cd": {
     "model_module": "@jupyter-widgets/base",
     "model_name": "LayoutModel",
     "state": {
      "_model_module": "@jupyter-widgets/base",
      "_model_module_version": "1.2.0",
      "_model_name": "LayoutModel",
      "_view_count": null,
      "_view_module": "@jupyter-widgets/base",
      "_view_module_version": "1.2.0",
      "_view_name": "LayoutView",
      "align_content": null,
      "align_items": null,
      "align_self": null,
      "border": null,
      "bottom": null,
      "display": null,
      "flex": null,
      "flex_flow": null,
      "grid_area": null,
      "grid_auto_columns": null,
      "grid_auto_flow": null,
      "grid_auto_rows": null,
      "grid_column": null,
      "grid_gap": null,
      "grid_row": null,
      "grid_template_areas": null,
      "grid_template_columns": null,
      "grid_template_rows": null,
      "height": null,
      "justify_content": null,
      "justify_items": null,
      "left": null,
      "margin": null,
      "max_height": null,
      "max_width": null,
      "min_height": null,
      "min_width": null,
      "object_fit": null,
      "object_position": null,
      "order": null,
      "overflow": null,
      "overflow_x": null,
      "overflow_y": null,
      "padding": null,
      "right": null,
      "top": null,
      "visibility": null,
      "width": null
     }
    },
    "65ddcf9fccde4a13bce38b412cb29794": {
     "model_module": "@jupyter-widgets/base",
     "model_name": "LayoutModel",
     "state": {
      "_model_module": "@jupyter-widgets/base",
      "_model_module_version": "1.2.0",
      "_model_name": "LayoutModel",
      "_view_count": null,
      "_view_module": "@jupyter-widgets/base",
      "_view_module_version": "1.2.0",
      "_view_name": "LayoutView",
      "align_content": null,
      "align_items": null,
      "align_self": null,
      "border": null,
      "bottom": null,
      "display": "inline-flex",
      "flex": null,
      "flex_flow": "row wrap",
      "grid_area": null,
      "grid_auto_columns": null,
      "grid_auto_flow": null,
      "grid_auto_rows": null,
      "grid_column": null,
      "grid_gap": null,
      "grid_row": null,
      "grid_template_areas": null,
      "grid_template_columns": null,
      "grid_template_rows": null,
      "height": null,
      "justify_content": null,
      "justify_items": null,
      "left": null,
      "margin": null,
      "max_height": null,
      "max_width": null,
      "min_height": null,
      "min_width": null,
      "object_fit": null,
      "object_position": null,
      "order": null,
      "overflow": null,
      "overflow_x": null,
      "overflow_y": null,
      "padding": null,
      "right": null,
      "top": null,
      "visibility": null,
      "width": "100%"
     }
    },
    "6721d2d913fa42c78e6289512106b239": {
     "model_module": "@jupyter-widgets/controls",
     "model_name": "HTMLModel",
     "state": {
      "_dom_classes": [],
      "_model_module": "@jupyter-widgets/controls",
      "_model_module_version": "1.5.0",
      "_model_name": "HTMLModel",
      "_view_count": null,
      "_view_module": "@jupyter-widgets/controls",
      "_view_module_version": "1.5.0",
      "_view_name": "HTMLView",
      "description": "",
      "description_tooltip": null,
      "layout": "IPY_MODEL_402a36abc9e04faf921c87ab66138dea",
      "placeholder": "​",
      "style": "IPY_MODEL_6a7cfdcdd8a841dd85809fcfefe0c795",
      "value": " 0/11 [00:12&lt;?, ?it/s]"
     }
    },
    "6a40e0fa8bef444fac606d02c38ebebb": {
     "model_module": "@jupyter-widgets/controls",
     "model_name": "ProgressStyleModel",
     "state": {
      "_model_module": "@jupyter-widgets/controls",
      "_model_module_version": "1.5.0",
      "_model_name": "ProgressStyleModel",
      "_view_count": null,
      "_view_module": "@jupyter-widgets/base",
      "_view_module_version": "1.2.0",
      "_view_name": "StyleView",
      "bar_color": null,
      "description_width": "initial"
     }
    },
    "6a7cfdcdd8a841dd85809fcfefe0c795": {
     "model_module": "@jupyter-widgets/controls",
     "model_name": "DescriptionStyleModel",
     "state": {
      "_model_module": "@jupyter-widgets/controls",
      "_model_module_version": "1.5.0",
      "_model_name": "DescriptionStyleModel",
      "_view_count": null,
      "_view_module": "@jupyter-widgets/base",
      "_view_module_version": "1.2.0",
      "_view_name": "StyleView",
      "description_width": ""
     }
    },
    "701aa81ee0024c9f841e9fa85fcb1162": {
     "model_module": "@jupyter-widgets/controls",
     "model_name": "HBoxModel",
     "state": {
      "_dom_classes": [],
      "_model_module": "@jupyter-widgets/controls",
      "_model_module_version": "1.5.0",
      "_model_name": "HBoxModel",
      "_view_count": null,
      "_view_module": "@jupyter-widgets/controls",
      "_view_module_version": "1.5.0",
      "_view_name": "HBoxView",
      "box_style": "",
      "children": [
       "IPY_MODEL_3d0cb981314e4c08bba72a59fb834663",
       "IPY_MODEL_f16d6497d26c4ebfbf53d930498271e6"
      ],
      "layout": "IPY_MODEL_a5dbe75e686843cbbc52e6d445f49495"
     }
    },
    "71751e948cb2449988b5da2fffb9b71b": {
     "model_module": "@jupyter-widgets/controls",
     "model_name": "HTMLModel",
     "state": {
      "_dom_classes": [],
      "_model_module": "@jupyter-widgets/controls",
      "_model_module_version": "1.5.0",
      "_model_name": "HTMLModel",
      "_view_count": null,
      "_view_module": "@jupyter-widgets/controls",
      "_view_module_version": "1.5.0",
      "_view_name": "HTMLView",
      "description": "",
      "description_tooltip": null,
      "layout": "IPY_MODEL_1850375eeafc46679e8bf807a562deea",
      "placeholder": "​",
      "style": "IPY_MODEL_eec43a142d264862a86ff2b4a1d24137",
      "value": " 0/2 [00:01&lt;?, ?it/s]"
     }
    },
    "74a12e2c81224ba3b9b1cd616f3c8dd1": {
     "model_module": "@jupyter-widgets/base",
     "model_name": "LayoutModel",
     "state": {
      "_model_module": "@jupyter-widgets/base",
      "_model_module_version": "1.2.0",
      "_model_name": "LayoutModel",
      "_view_count": null,
      "_view_module": "@jupyter-widgets/base",
      "_view_module_version": "1.2.0",
      "_view_name": "LayoutView",
      "align_content": null,
      "align_items": null,
      "align_self": null,
      "border": null,
      "bottom": null,
      "display": null,
      "flex": null,
      "flex_flow": null,
      "grid_area": null,
      "grid_auto_columns": null,
      "grid_auto_flow": null,
      "grid_auto_rows": null,
      "grid_column": null,
      "grid_gap": null,
      "grid_row": null,
      "grid_template_areas": null,
      "grid_template_columns": null,
      "grid_template_rows": null,
      "height": null,
      "justify_content": null,
      "justify_items": null,
      "left": null,
      "margin": null,
      "max_height": null,
      "max_width": null,
      "min_height": null,
      "min_width": null,
      "object_fit": null,
      "object_position": null,
      "order": null,
      "overflow": null,
      "overflow_x": null,
      "overflow_y": null,
      "padding": null,
      "right": null,
      "top": null,
      "visibility": null,
      "width": null
     }
    },
    "7a484000e90447fdbaaf9241904152c4": {
     "model_module": "@jupyter-widgets/controls",
     "model_name": "HTMLModel",
     "state": {
      "_dom_classes": [],
      "_model_module": "@jupyter-widgets/controls",
      "_model_module_version": "1.5.0",
      "_model_name": "HTMLModel",
      "_view_count": null,
      "_view_module": "@jupyter-widgets/controls",
      "_view_module_version": "1.5.0",
      "_view_name": "HTMLView",
      "description": "",
      "description_tooltip": null,
      "layout": "IPY_MODEL_6136323be6c84fee90c948e9ca05e1cd",
      "placeholder": "​",
      "style": "IPY_MODEL_4faeac4689b945cda6d08102099f7777",
      "value": " 0/97 [00:13&lt;?, ?it/s, loss=0.055, v_num=7]"
     }
    },
    "7b26a9a97faf434f910511e2f87eaa42": {
     "model_module": "@jupyter-widgets/base",
     "model_name": "LayoutModel",
     "state": {
      "_model_module": "@jupyter-widgets/base",
      "_model_module_version": "1.2.0",
      "_model_name": "LayoutModel",
      "_view_count": null,
      "_view_module": "@jupyter-widgets/base",
      "_view_module_version": "1.2.0",
      "_view_name": "LayoutView",
      "align_content": null,
      "align_items": null,
      "align_self": null,
      "border": null,
      "bottom": null,
      "display": "inline-flex",
      "flex": null,
      "flex_flow": "row wrap",
      "grid_area": null,
      "grid_auto_columns": null,
      "grid_auto_flow": null,
      "grid_auto_rows": null,
      "grid_column": null,
      "grid_gap": null,
      "grid_row": null,
      "grid_template_areas": null,
      "grid_template_columns": null,
      "grid_template_rows": null,
      "height": null,
      "justify_content": null,
      "justify_items": null,
      "left": null,
      "margin": null,
      "max_height": null,
      "max_width": null,
      "min_height": null,
      "min_width": null,
      "object_fit": null,
      "object_position": null,
      "order": null,
      "overflow": null,
      "overflow_x": null,
      "overflow_y": null,
      "padding": null,
      "right": null,
      "top": null,
      "visibility": null,
      "width": "100%"
     }
    },
    "800ba9c1cab84f21a785a8122f7fb04c": {
     "model_module": "@jupyter-widgets/controls",
     "model_name": "ProgressStyleModel",
     "state": {
      "_model_module": "@jupyter-widgets/controls",
      "_model_module_version": "1.5.0",
      "_model_name": "ProgressStyleModel",
      "_view_count": null,
      "_view_module": "@jupyter-widgets/base",
      "_view_module_version": "1.2.0",
      "_view_name": "StyleView",
      "bar_color": null,
      "description_width": "initial"
     }
    },
    "801b6c64c1dc48588fa9c9d5d7472557": {
     "model_module": "@jupyter-widgets/controls",
     "model_name": "ProgressStyleModel",
     "state": {
      "_model_module": "@jupyter-widgets/controls",
      "_model_module_version": "1.5.0",
      "_model_name": "ProgressStyleModel",
      "_view_count": null,
      "_view_module": "@jupyter-widgets/base",
      "_view_module_version": "1.2.0",
      "_view_name": "StyleView",
      "bar_color": null,
      "description_width": "initial"
     }
    },
    "86d645f38c8f40b39bfcbbb0f19a3cb9": {
     "model_module": "@jupyter-widgets/controls",
     "model_name": "HBoxModel",
     "state": {
      "_dom_classes": [],
      "_model_module": "@jupyter-widgets/controls",
      "_model_module_version": "1.5.0",
      "_model_name": "HBoxModel",
      "_view_count": null,
      "_view_module": "@jupyter-widgets/controls",
      "_view_module_version": "1.5.0",
      "_view_name": "HBoxView",
      "box_style": "",
      "children": [
       "IPY_MODEL_c7d89ce489e641d78c736e853c506f4d",
       "IPY_MODEL_71751e948cb2449988b5da2fffb9b71b"
      ],
      "layout": "IPY_MODEL_5129b562b39b484a82265aacf64abfec"
     }
    },
    "88c957bcfd444949af0411fbf4731761": {
     "model_module": "@jupyter-widgets/base",
     "model_name": "LayoutModel",
     "state": {
      "_model_module": "@jupyter-widgets/base",
      "_model_module_version": "1.2.0",
      "_model_name": "LayoutModel",
      "_view_count": null,
      "_view_module": "@jupyter-widgets/base",
      "_view_module_version": "1.2.0",
      "_view_name": "LayoutView",
      "align_content": null,
      "align_items": null,
      "align_self": null,
      "border": null,
      "bottom": null,
      "display": "inline-flex",
      "flex": null,
      "flex_flow": "row wrap",
      "grid_area": null,
      "grid_auto_columns": null,
      "grid_auto_flow": null,
      "grid_auto_rows": null,
      "grid_column": null,
      "grid_gap": null,
      "grid_row": null,
      "grid_template_areas": null,
      "grid_template_columns": null,
      "grid_template_rows": null,
      "height": null,
      "justify_content": null,
      "justify_items": null,
      "left": null,
      "margin": null,
      "max_height": null,
      "max_width": null,
      "min_height": null,
      "min_width": null,
      "object_fit": null,
      "object_position": null,
      "order": null,
      "overflow": null,
      "overflow_x": null,
      "overflow_y": null,
      "padding": null,
      "right": null,
      "top": null,
      "visibility": null,
      "width": "100%"
     }
    },
    "8984dd7a78b343d89c7aaadb78d34be3": {
     "model_module": "@jupyter-widgets/controls",
     "model_name": "DescriptionStyleModel",
     "state": {
      "_model_module": "@jupyter-widgets/controls",
      "_model_module_version": "1.5.0",
      "_model_name": "DescriptionStyleModel",
      "_view_count": null,
      "_view_module": "@jupyter-widgets/base",
      "_view_module_version": "1.2.0",
      "_view_name": "StyleView",
      "description_width": ""
     }
    },
    "8b86b949f6b149edbdcdaa16caafeca2": {
     "model_module": "@jupyter-widgets/base",
     "model_name": "LayoutModel",
     "state": {
      "_model_module": "@jupyter-widgets/base",
      "_model_module_version": "1.2.0",
      "_model_name": "LayoutModel",
      "_view_count": null,
      "_view_module": "@jupyter-widgets/base",
      "_view_module_version": "1.2.0",
      "_view_name": "LayoutView",
      "align_content": null,
      "align_items": null,
      "align_self": null,
      "border": null,
      "bottom": null,
      "display": null,
      "flex": null,
      "flex_flow": null,
      "grid_area": null,
      "grid_auto_columns": null,
      "grid_auto_flow": null,
      "grid_auto_rows": null,
      "grid_column": null,
      "grid_gap": null,
      "grid_row": null,
      "grid_template_areas": null,
      "grid_template_columns": null,
      "grid_template_rows": null,
      "height": null,
      "justify_content": null,
      "justify_items": null,
      "left": null,
      "margin": null,
      "max_height": null,
      "max_width": null,
      "min_height": null,
      "min_width": null,
      "object_fit": null,
      "object_position": null,
      "order": null,
      "overflow": null,
      "overflow_x": null,
      "overflow_y": null,
      "padding": null,
      "right": null,
      "top": null,
      "visibility": null,
      "width": null
     }
    },
    "90688c9ce8cc40e6b007745d5940aa3b": {
     "model_module": "@jupyter-widgets/base",
     "model_name": "LayoutModel",
     "state": {
      "_model_module": "@jupyter-widgets/base",
      "_model_module_version": "1.2.0",
      "_model_name": "LayoutModel",
      "_view_count": null,
      "_view_module": "@jupyter-widgets/base",
      "_view_module_version": "1.2.0",
      "_view_name": "LayoutView",
      "align_content": null,
      "align_items": null,
      "align_self": null,
      "border": null,
      "bottom": null,
      "display": null,
      "flex": "2",
      "flex_flow": null,
      "grid_area": null,
      "grid_auto_columns": null,
      "grid_auto_flow": null,
      "grid_auto_rows": null,
      "grid_column": null,
      "grid_gap": null,
      "grid_row": null,
      "grid_template_areas": null,
      "grid_template_columns": null,
      "grid_template_rows": null,
      "height": null,
      "justify_content": null,
      "justify_items": null,
      "left": null,
      "margin": null,
      "max_height": null,
      "max_width": null,
      "min_height": null,
      "min_width": null,
      "object_fit": null,
      "object_position": null,
      "order": null,
      "overflow": null,
      "overflow_x": null,
      "overflow_y": null,
      "padding": null,
      "right": null,
      "top": null,
      "visibility": null,
      "width": null
     }
    },
    "93527e370a284cba84a2319ddbe300c8": {
     "model_module": "@jupyter-widgets/controls",
     "model_name": "DescriptionStyleModel",
     "state": {
      "_model_module": "@jupyter-widgets/controls",
      "_model_module_version": "1.5.0",
      "_model_name": "DescriptionStyleModel",
      "_view_count": null,
      "_view_module": "@jupyter-widgets/base",
      "_view_module_version": "1.2.0",
      "_view_name": "StyleView",
      "description_width": ""
     }
    },
    "94a7422ccc684224bdadc8b33c0b97ed": {
     "model_module": "@jupyter-widgets/controls",
     "model_name": "FloatProgressModel",
     "state": {
      "_dom_classes": [],
      "_model_module": "@jupyter-widgets/controls",
      "_model_module_version": "1.5.0",
      "_model_name": "FloatProgressModel",
      "_view_count": null,
      "_view_module": "@jupyter-widgets/controls",
      "_view_module_version": "1.5.0",
      "_view_name": "ProgressView",
      "bar_style": "info",
      "description": "Validating: 100%",
      "description_tooltip": null,
      "layout": "IPY_MODEL_478337a8b3d4428992ecbc6fd6bc366f",
      "max": 1,
      "min": 0,
      "orientation": "horizontal",
      "style": "IPY_MODEL_32688dabfd7e4389bcec860a1746610c",
      "value": 1
     }
    },
    "986d94df434148dfad089c04973779c3": {
     "model_module": "@jupyter-widgets/base",
     "model_name": "LayoutModel",
     "state": {
      "_model_module": "@jupyter-widgets/base",
      "_model_module_version": "1.2.0",
      "_model_name": "LayoutModel",
      "_view_count": null,
      "_view_module": "@jupyter-widgets/base",
      "_view_module_version": "1.2.0",
      "_view_name": "LayoutView",
      "align_content": null,
      "align_items": null,
      "align_self": null,
      "border": null,
      "bottom": null,
      "display": null,
      "flex": "2",
      "flex_flow": null,
      "grid_area": null,
      "grid_auto_columns": null,
      "grid_auto_flow": null,
      "grid_auto_rows": null,
      "grid_column": null,
      "grid_gap": null,
      "grid_row": null,
      "grid_template_areas": null,
      "grid_template_columns": null,
      "grid_template_rows": null,
      "height": null,
      "justify_content": null,
      "justify_items": null,
      "left": null,
      "margin": null,
      "max_height": null,
      "max_width": null,
      "min_height": null,
      "min_width": null,
      "object_fit": null,
      "object_position": null,
      "order": null,
      "overflow": null,
      "overflow_x": null,
      "overflow_y": null,
      "padding": null,
      "right": null,
      "top": null,
      "visibility": null,
      "width": null
     }
    },
    "98aa848aa9f1465dbaa14071bb1f4917": {
     "model_module": "@jupyter-widgets/controls",
     "model_name": "HBoxModel",
     "state": {
      "_dom_classes": [],
      "_model_module": "@jupyter-widgets/controls",
      "_model_module_version": "1.5.0",
      "_model_name": "HBoxModel",
      "_view_count": null,
      "_view_module": "@jupyter-widgets/controls",
      "_view_module_version": "1.5.0",
      "_view_name": "HBoxView",
      "box_style": "",
      "children": [
       "IPY_MODEL_bfc2d211d4dd45b2a658f0e8d567e7f4",
       "IPY_MODEL_7a484000e90447fdbaaf9241904152c4"
      ],
      "layout": "IPY_MODEL_00537ba4617f4804be3debe8a19f809c"
     }
    },
    "9f8cf4058afc4451a74f20dde60455d4": {
     "model_module": "@jupyter-widgets/controls",
     "model_name": "FloatProgressModel",
     "state": {
      "_dom_classes": [],
      "_model_module": "@jupyter-widgets/controls",
      "_model_module_version": "1.5.0",
      "_model_name": "FloatProgressModel",
      "_view_count": null,
      "_view_module": "@jupyter-widgets/controls",
      "_view_module_version": "1.5.0",
      "_view_name": "ProgressView",
      "bar_style": "danger",
      "description": "Testing:   0%",
      "description_tooltip": null,
      "layout": "IPY_MODEL_3725249ee30b4d36841bb1d2a823128f",
      "max": 1,
      "min": 0,
      "orientation": "horizontal",
      "style": "IPY_MODEL_800ba9c1cab84f21a785a8122f7fb04c",
      "value": 0
     }
    },
    "a3a8f8e370d24acfa405ec4a0faa6001": {
     "model_module": "@jupyter-widgets/controls",
     "model_name": "ProgressStyleModel",
     "state": {
      "_model_module": "@jupyter-widgets/controls",
      "_model_module_version": "1.5.0",
      "_model_name": "ProgressStyleModel",
      "_view_count": null,
      "_view_module": "@jupyter-widgets/base",
      "_view_module_version": "1.2.0",
      "_view_name": "StyleView",
      "bar_color": null,
      "description_width": "initial"
     }
    },
    "a5dbe75e686843cbbc52e6d445f49495": {
     "model_module": "@jupyter-widgets/base",
     "model_name": "LayoutModel",
     "state": {
      "_model_module": "@jupyter-widgets/base",
      "_model_module_version": "1.2.0",
      "_model_name": "LayoutModel",
      "_view_count": null,
      "_view_module": "@jupyter-widgets/base",
      "_view_module_version": "1.2.0",
      "_view_name": "LayoutView",
      "align_content": null,
      "align_items": null,
      "align_self": null,
      "border": null,
      "bottom": null,
      "display": "inline-flex",
      "flex": null,
      "flex_flow": "row wrap",
      "grid_area": null,
      "grid_auto_columns": null,
      "grid_auto_flow": null,
      "grid_auto_rows": null,
      "grid_column": null,
      "grid_gap": null,
      "grid_row": null,
      "grid_template_areas": null,
      "grid_template_columns": null,
      "grid_template_rows": null,
      "height": null,
      "justify_content": null,
      "justify_items": null,
      "left": null,
      "margin": null,
      "max_height": null,
      "max_width": null,
      "min_height": null,
      "min_width": null,
      "object_fit": null,
      "object_position": null,
      "order": null,
      "overflow": null,
      "overflow_x": null,
      "overflow_y": null,
      "padding": null,
      "right": null,
      "top": null,
      "visibility": null,
      "width": "100%"
     }
    },
    "a798b6e3767f41cd8c255ab069897715": {
     "model_module": "@jupyter-widgets/base",
     "model_name": "LayoutModel",
     "state": {
      "_model_module": "@jupyter-widgets/base",
      "_model_module_version": "1.2.0",
      "_model_name": "LayoutModel",
      "_view_count": null,
      "_view_module": "@jupyter-widgets/base",
      "_view_module_version": "1.2.0",
      "_view_name": "LayoutView",
      "align_content": null,
      "align_items": null,
      "align_self": null,
      "border": null,
      "bottom": null,
      "display": "inline-flex",
      "flex": null,
      "flex_flow": "row wrap",
      "grid_area": null,
      "grid_auto_columns": null,
      "grid_auto_flow": null,
      "grid_auto_rows": null,
      "grid_column": null,
      "grid_gap": null,
      "grid_row": null,
      "grid_template_areas": null,
      "grid_template_columns": null,
      "grid_template_rows": null,
      "height": null,
      "justify_content": null,
      "justify_items": null,
      "left": null,
      "margin": null,
      "max_height": null,
      "max_width": null,
      "min_height": null,
      "min_width": null,
      "object_fit": null,
      "object_position": null,
      "order": null,
      "overflow": null,
      "overflow_x": null,
      "overflow_y": null,
      "padding": null,
      "right": null,
      "top": null,
      "visibility": null,
      "width": "100%"
     }
    },
    "ac66c3e038d04d7eafe6a8150738d594": {
     "model_module": "@jupyter-widgets/controls",
     "model_name": "ProgressStyleModel",
     "state": {
      "_model_module": "@jupyter-widgets/controls",
      "_model_module_version": "1.5.0",
      "_model_name": "ProgressStyleModel",
      "_view_count": null,
      "_view_module": "@jupyter-widgets/base",
      "_view_module_version": "1.2.0",
      "_view_name": "StyleView",
      "bar_color": null,
      "description_width": "initial"
     }
    },
    "ad5d2324488f4928bb3bd714ea4a20e6": {
     "model_module": "@jupyter-widgets/controls",
     "model_name": "FloatProgressModel",
     "state": {
      "_dom_classes": [],
      "_model_module": "@jupyter-widgets/controls",
      "_model_module_version": "1.5.0",
      "_model_name": "FloatProgressModel",
      "_view_count": null,
      "_view_module": "@jupyter-widgets/controls",
      "_view_module_version": "1.5.0",
      "_view_name": "ProgressView",
      "bar_style": "success",
      "description": "Testing: 100%",
      "description_tooltip": null,
      "layout": "IPY_MODEL_90688c9ce8cc40e6b007745d5940aa3b",
      "max": 1,
      "min": 0,
      "orientation": "horizontal",
      "style": "IPY_MODEL_ac66c3e038d04d7eafe6a8150738d594",
      "value": 1
     }
    },
    "af37e6d51c164e318e6ded3920d0c7c3": {
     "model_module": "@jupyter-widgets/controls",
     "model_name": "HBoxModel",
     "state": {
      "_dom_classes": [],
      "_model_module": "@jupyter-widgets/controls",
      "_model_module_version": "1.5.0",
      "_model_name": "HBoxModel",
      "_view_count": null,
      "_view_module": "@jupyter-widgets/controls",
      "_view_module_version": "1.5.0",
      "_view_name": "HBoxView",
      "box_style": "",
      "children": [
       "IPY_MODEL_9f8cf4058afc4451a74f20dde60455d4",
       "IPY_MODEL_5af3d0d496d045be845d885e20457584"
      ],
      "layout": "IPY_MODEL_a798b6e3767f41cd8c255ab069897715"
     }
    },
    "b176f60b01c748c4ac2df58ae76f295c": {
     "model_module": "@jupyter-widgets/base",
     "model_name": "LayoutModel",
     "state": {
      "_model_module": "@jupyter-widgets/base",
      "_model_module_version": "1.2.0",
      "_model_name": "LayoutModel",
      "_view_count": null,
      "_view_module": "@jupyter-widgets/base",
      "_view_module_version": "1.2.0",
      "_view_name": "LayoutView",
      "align_content": null,
      "align_items": null,
      "align_self": null,
      "border": null,
      "bottom": null,
      "display": "inline-flex",
      "flex": null,
      "flex_flow": "row wrap",
      "grid_area": null,
      "grid_auto_columns": null,
      "grid_auto_flow": null,
      "grid_auto_rows": null,
      "grid_column": null,
      "grid_gap": null,
      "grid_row": null,
      "grid_template_areas": null,
      "grid_template_columns": null,
      "grid_template_rows": null,
      "height": null,
      "justify_content": null,
      "justify_items": null,
      "left": null,
      "margin": null,
      "max_height": null,
      "max_width": null,
      "min_height": null,
      "min_width": null,
      "object_fit": null,
      "object_position": null,
      "order": null,
      "overflow": null,
      "overflow_x": null,
      "overflow_y": null,
      "padding": null,
      "right": null,
      "top": null,
      "visibility": null,
      "width": "100%"
     }
    },
    "b207ce4508414c4c930cd7dbe2a5ba1c": {
     "model_module": "@jupyter-widgets/controls",
     "model_name": "DescriptionStyleModel",
     "state": {
      "_model_module": "@jupyter-widgets/controls",
      "_model_module_version": "1.5.0",
      "_model_name": "DescriptionStyleModel",
      "_view_count": null,
      "_view_module": "@jupyter-widgets/base",
      "_view_module_version": "1.2.0",
      "_view_name": "StyleView",
      "description_width": ""
     }
    },
    "b51d045b10a24f0788fd5e7f1c049c44": {
     "model_module": "@jupyter-widgets/controls",
     "model_name": "DescriptionStyleModel",
     "state": {
      "_model_module": "@jupyter-widgets/controls",
      "_model_module_version": "1.5.0",
      "_model_name": "DescriptionStyleModel",
      "_view_count": null,
      "_view_module": "@jupyter-widgets/base",
      "_view_module_version": "1.2.0",
      "_view_name": "StyleView",
      "description_width": ""
     }
    },
    "be1cae32eab04da5aa7f0a025af856de": {
     "model_module": "@jupyter-widgets/controls",
     "model_name": "DescriptionStyleModel",
     "state": {
      "_model_module": "@jupyter-widgets/controls",
      "_model_module_version": "1.5.0",
      "_model_name": "DescriptionStyleModel",
      "_view_count": null,
      "_view_module": "@jupyter-widgets/base",
      "_view_module_version": "1.2.0",
      "_view_name": "StyleView",
      "description_width": ""
     }
    },
    "bfc2d211d4dd45b2a658f0e8d567e7f4": {
     "model_module": "@jupyter-widgets/controls",
     "model_name": "FloatProgressModel",
     "state": {
      "_dom_classes": [],
      "_model_module": "@jupyter-widgets/controls",
      "_model_module_version": "1.5.0",
      "_model_name": "FloatProgressModel",
      "_view_count": null,
      "_view_module": "@jupyter-widgets/controls",
      "_view_module_version": "1.5.0",
      "_view_name": "ProgressView",
      "bar_style": "danger",
      "description": "Epoch 400:   0%",
      "description_tooltip": null,
      "layout": "IPY_MODEL_dabde3fb25d14b308ca85547a0d91b86",
      "max": 97,
      "min": 0,
      "orientation": "horizontal",
      "style": "IPY_MODEL_4d87bbf6a22c45e5b61028744d81c6e2",
      "value": 0
     }
    },
    "c5bed3c7192b47c5868a29a2117389f6": {
     "model_module": "@jupyter-widgets/controls",
     "model_name": "DescriptionStyleModel",
     "state": {
      "_model_module": "@jupyter-widgets/controls",
      "_model_module_version": "1.5.0",
      "_model_name": "DescriptionStyleModel",
      "_view_count": null,
      "_view_module": "@jupyter-widgets/base",
      "_view_module_version": "1.2.0",
      "_view_name": "StyleView",
      "description_width": ""
     }
    },
    "c64338be17b9481ba6ec47716bef91f4": {
     "model_module": "@jupyter-widgets/base",
     "model_name": "LayoutModel",
     "state": {
      "_model_module": "@jupyter-widgets/base",
      "_model_module_version": "1.2.0",
      "_model_name": "LayoutModel",
      "_view_count": null,
      "_view_module": "@jupyter-widgets/base",
      "_view_module_version": "1.2.0",
      "_view_name": "LayoutView",
      "align_content": null,
      "align_items": null,
      "align_self": null,
      "border": null,
      "bottom": null,
      "display": null,
      "flex": null,
      "flex_flow": null,
      "grid_area": null,
      "grid_auto_columns": null,
      "grid_auto_flow": null,
      "grid_auto_rows": null,
      "grid_column": null,
      "grid_gap": null,
      "grid_row": null,
      "grid_template_areas": null,
      "grid_template_columns": null,
      "grid_template_rows": null,
      "height": null,
      "justify_content": null,
      "justify_items": null,
      "left": null,
      "margin": null,
      "max_height": null,
      "max_width": null,
      "min_height": null,
      "min_width": null,
      "object_fit": null,
      "object_position": null,
      "order": null,
      "overflow": null,
      "overflow_x": null,
      "overflow_y": null,
      "padding": null,
      "right": null,
      "top": null,
      "visibility": null,
      "width": null
     }
    },
    "c72300ebdbe94f2a975d0390d5adcd76": {
     "model_module": "@jupyter-widgets/controls",
     "model_name": "HBoxModel",
     "state": {
      "_dom_classes": [],
      "_model_module": "@jupyter-widgets/controls",
      "_model_module_version": "1.5.0",
      "_model_name": "HBoxModel",
      "_view_count": null,
      "_view_module": "@jupyter-widgets/controls",
      "_view_module_version": "1.5.0",
      "_view_name": "HBoxView",
      "box_style": "",
      "children": [
       "IPY_MODEL_3e70fe299c484467bafedce848ac7c5b",
       "IPY_MODEL_e8755eea61eb4cc4aaae02b5e4c01d58"
      ],
      "layout": "IPY_MODEL_7b26a9a97faf434f910511e2f87eaa42"
     }
    },
    "c7d89ce489e641d78c736e853c506f4d": {
     "model_module": "@jupyter-widgets/controls",
     "model_name": "FloatProgressModel",
     "state": {
      "_dom_classes": [],
      "_model_module": "@jupyter-widgets/controls",
      "_model_module_version": "1.5.0",
      "_model_name": "FloatProgressModel",
      "_view_count": null,
      "_view_module": "@jupyter-widgets/controls",
      "_view_module_version": "1.5.0",
      "_view_name": "ProgressView",
      "bar_style": "danger",
      "description": "Validation sanity check:   0%",
      "description_tooltip": null,
      "layout": "IPY_MODEL_edd8a940c0a44233abb9c083bca502dd",
      "max": 1,
      "min": 0,
      "orientation": "horizontal",
      "style": "IPY_MODEL_801b6c64c1dc48588fa9c9d5d7472557",
      "value": 0
     }
    },
    "cb8b111f08404b05bf1c665951e9b9bb": {
     "model_module": "@jupyter-widgets/base",
     "model_name": "LayoutModel",
     "state": {
      "_model_module": "@jupyter-widgets/base",
      "_model_module_version": "1.2.0",
      "_model_name": "LayoutModel",
      "_view_count": null,
      "_view_module": "@jupyter-widgets/base",
      "_view_module_version": "1.2.0",
      "_view_name": "LayoutView",
      "align_content": null,
      "align_items": null,
      "align_self": null,
      "border": null,
      "bottom": null,
      "display": null,
      "flex": null,
      "flex_flow": null,
      "grid_area": null,
      "grid_auto_columns": null,
      "grid_auto_flow": null,
      "grid_auto_rows": null,
      "grid_column": null,
      "grid_gap": null,
      "grid_row": null,
      "grid_template_areas": null,
      "grid_template_columns": null,
      "grid_template_rows": null,
      "height": null,
      "justify_content": null,
      "justify_items": null,
      "left": null,
      "margin": null,
      "max_height": null,
      "max_width": null,
      "min_height": null,
      "min_width": null,
      "object_fit": null,
      "object_position": null,
      "order": null,
      "overflow": null,
      "overflow_x": null,
      "overflow_y": null,
      "padding": null,
      "right": null,
      "top": null,
      "visibility": null,
      "width": null
     }
    },
    "d0d68f83f47c423fb9d2fca99b1b1e5c": {
     "model_module": "@jupyter-widgets/controls",
     "model_name": "FloatProgressModel",
     "state": {
      "_dom_classes": [],
      "_model_module": "@jupyter-widgets/controls",
      "_model_module_version": "1.5.0",
      "_model_name": "FloatProgressModel",
      "_view_count": null,
      "_view_module": "@jupyter-widgets/controls",
      "_view_module_version": "1.5.0",
      "_view_name": "ProgressView",
      "bar_style": "danger",
      "description": "Validating:   0%",
      "description_tooltip": null,
      "layout": "IPY_MODEL_986d94df434148dfad089c04973779c3",
      "max": 1,
      "min": 0,
      "orientation": "horizontal",
      "style": "IPY_MODEL_1338f6b6567e423ea70ea99b471936e1",
      "value": 0
     }
    },
    "d47efe4ab5ec4ac186697681ead29fae": {
     "model_module": "@jupyter-widgets/base",
     "model_name": "LayoutModel",
     "state": {
      "_model_module": "@jupyter-widgets/base",
      "_model_module_version": "1.2.0",
      "_model_name": "LayoutModel",
      "_view_count": null,
      "_view_module": "@jupyter-widgets/base",
      "_view_module_version": "1.2.0",
      "_view_name": "LayoutView",
      "align_content": null,
      "align_items": null,
      "align_self": null,
      "border": null,
      "bottom": null,
      "display": null,
      "flex": "2",
      "flex_flow": null,
      "grid_area": null,
      "grid_auto_columns": null,
      "grid_auto_flow": null,
      "grid_auto_rows": null,
      "grid_column": null,
      "grid_gap": null,
      "grid_row": null,
      "grid_template_areas": null,
      "grid_template_columns": null,
      "grid_template_rows": null,
      "height": null,
      "justify_content": null,
      "justify_items": null,
      "left": null,
      "margin": null,
      "max_height": null,
      "max_width": null,
      "min_height": null,
      "min_width": null,
      "object_fit": null,
      "object_position": null,
      "order": null,
      "overflow": null,
      "overflow_x": null,
      "overflow_y": null,
      "padding": null,
      "right": null,
      "top": null,
      "visibility": null,
      "width": null
     }
    },
    "dabde3fb25d14b308ca85547a0d91b86": {
     "model_module": "@jupyter-widgets/base",
     "model_name": "LayoutModel",
     "state": {
      "_model_module": "@jupyter-widgets/base",
      "_model_module_version": "1.2.0",
      "_model_name": "LayoutModel",
      "_view_count": null,
      "_view_module": "@jupyter-widgets/base",
      "_view_module_version": "1.2.0",
      "_view_name": "LayoutView",
      "align_content": null,
      "align_items": null,
      "align_self": null,
      "border": null,
      "bottom": null,
      "display": null,
      "flex": "2",
      "flex_flow": null,
      "grid_area": null,
      "grid_auto_columns": null,
      "grid_auto_flow": null,
      "grid_auto_rows": null,
      "grid_column": null,
      "grid_gap": null,
      "grid_row": null,
      "grid_template_areas": null,
      "grid_template_columns": null,
      "grid_template_rows": null,
      "height": null,
      "justify_content": null,
      "justify_items": null,
      "left": null,
      "margin": null,
      "max_height": null,
      "max_width": null,
      "min_height": null,
      "min_width": null,
      "object_fit": null,
      "object_position": null,
      "order": null,
      "overflow": null,
      "overflow_x": null,
      "overflow_y": null,
      "padding": null,
      "right": null,
      "top": null,
      "visibility": null,
      "width": null
     }
    },
    "dada2ab5f4954143b8b2a5d4fe4b1d7c": {
     "model_module": "@jupyter-widgets/controls",
     "model_name": "HTMLModel",
     "state": {
      "_dom_classes": [],
      "_model_module": "@jupyter-widgets/controls",
      "_model_module_version": "1.5.0",
      "_model_name": "HTMLModel",
      "_view_count": null,
      "_view_module": "@jupyter-widgets/controls",
      "_view_module_version": "1.5.0",
      "_view_name": "HTMLView",
      "description": "",
      "description_tooltip": null,
      "layout": "IPY_MODEL_cb8b111f08404b05bf1c665951e9b9bb",
      "placeholder": "​",
      "style": "IPY_MODEL_b51d045b10a24f0788fd5e7f1c049c44",
      "value": " 0/11 [00:12&lt;?, ?it/s]"
     }
    },
    "dbbb4faab258401e98ed220deb451eab": {
     "model_module": "@jupyter-widgets/controls",
     "model_name": "HTMLModel",
     "state": {
      "_dom_classes": [],
      "_model_module": "@jupyter-widgets/controls",
      "_model_module_version": "1.5.0",
      "_model_name": "HTMLModel",
      "_view_count": null,
      "_view_module": "@jupyter-widgets/controls",
      "_view_module_version": "1.5.0",
      "_view_name": "HTMLView",
      "description": "",
      "description_tooltip": null,
      "layout": "IPY_MODEL_8b86b949f6b149edbdcdaa16caafeca2",
      "placeholder": "​",
      "style": "IPY_MODEL_93527e370a284cba84a2319ddbe300c8",
      "value": " 1/1 [00:00&lt;00:00,  1.04it/s]"
     }
    },
    "e5814ab57b8342df87461045efa387cd": {
     "model_module": "@jupyter-widgets/controls",
     "model_name": "DescriptionStyleModel",
     "state": {
      "_model_module": "@jupyter-widgets/controls",
      "_model_module_version": "1.5.0",
      "_model_name": "DescriptionStyleModel",
      "_view_count": null,
      "_view_module": "@jupyter-widgets/base",
      "_view_module_version": "1.2.0",
      "_view_name": "StyleView",
      "description_width": ""
     }
    },
    "e6edbfb6bbed497d939141be56da96e5": {
     "model_module": "@jupyter-widgets/controls",
     "model_name": "HBoxModel",
     "state": {
      "_dom_classes": [],
      "_model_module": "@jupyter-widgets/controls",
      "_model_module_version": "1.5.0",
      "_model_name": "HBoxModel",
      "_view_count": null,
      "_view_module": "@jupyter-widgets/controls",
      "_view_module_version": "1.5.0",
      "_view_name": "HBoxView",
      "box_style": "",
      "children": [
       "IPY_MODEL_ad5d2324488f4928bb3bd714ea4a20e6",
       "IPY_MODEL_dbbb4faab258401e98ed220deb451eab"
      ],
      "layout": "IPY_MODEL_1e065c49d5844fd3badde3ae136130c4"
     }
    },
    "e82213013ae14f4386ea80c355939902": {
     "model_module": "@jupyter-widgets/base",
     "model_name": "LayoutModel",
     "state": {
      "_model_module": "@jupyter-widgets/base",
      "_model_module_version": "1.2.0",
      "_model_name": "LayoutModel",
      "_view_count": null,
      "_view_module": "@jupyter-widgets/base",
      "_view_module_version": "1.2.0",
      "_view_name": "LayoutView",
      "align_content": null,
      "align_items": null,
      "align_self": null,
      "border": null,
      "bottom": null,
      "display": null,
      "flex": "2",
      "flex_flow": null,
      "grid_area": null,
      "grid_auto_columns": null,
      "grid_auto_flow": null,
      "grid_auto_rows": null,
      "grid_column": null,
      "grid_gap": null,
      "grid_row": null,
      "grid_template_areas": null,
      "grid_template_columns": null,
      "grid_template_rows": null,
      "height": null,
      "justify_content": null,
      "justify_items": null,
      "left": null,
      "margin": null,
      "max_height": null,
      "max_width": null,
      "min_height": null,
      "min_width": null,
      "object_fit": null,
      "object_position": null,
      "order": null,
      "overflow": null,
      "overflow_x": null,
      "overflow_y": null,
      "padding": null,
      "right": null,
      "top": null,
      "visibility": null,
      "width": null
     }
    },
    "e8755eea61eb4cc4aaae02b5e4c01d58": {
     "model_module": "@jupyter-widgets/controls",
     "model_name": "HTMLModel",
     "state": {
      "_dom_classes": [],
      "_model_module": "@jupyter-widgets/controls",
      "_model_module_version": "1.5.0",
      "_model_name": "HTMLModel",
      "_view_count": null,
      "_view_module": "@jupyter-widgets/controls",
      "_view_module_version": "1.5.0",
      "_view_name": "HTMLView",
      "description": "",
      "description_tooltip": null,
      "layout": "IPY_MODEL_2b10c7856ff74d9bbe3c26a7151d3619",
      "placeholder": "​",
      "style": "IPY_MODEL_e5814ab57b8342df87461045efa387cd",
      "value": " 2/2 [00:01&lt;00:00,  1.45it/s, loss=0.699, v_num=3]"
     }
    },
    "edd8a940c0a44233abb9c083bca502dd": {
     "model_module": "@jupyter-widgets/base",
     "model_name": "LayoutModel",
     "state": {
      "_model_module": "@jupyter-widgets/base",
      "_model_module_version": "1.2.0",
      "_model_name": "LayoutModel",
      "_view_count": null,
      "_view_module": "@jupyter-widgets/base",
      "_view_module_version": "1.2.0",
      "_view_name": "LayoutView",
      "align_content": null,
      "align_items": null,
      "align_self": null,
      "border": null,
      "bottom": null,
      "display": null,
      "flex": "2",
      "flex_flow": null,
      "grid_area": null,
      "grid_auto_columns": null,
      "grid_auto_flow": null,
      "grid_auto_rows": null,
      "grid_column": null,
      "grid_gap": null,
      "grid_row": null,
      "grid_template_areas": null,
      "grid_template_columns": null,
      "grid_template_rows": null,
      "height": null,
      "justify_content": null,
      "justify_items": null,
      "left": null,
      "margin": null,
      "max_height": null,
      "max_width": null,
      "min_height": null,
      "min_width": null,
      "object_fit": null,
      "object_position": null,
      "order": null,
      "overflow": null,
      "overflow_x": null,
      "overflow_y": null,
      "padding": null,
      "right": null,
      "top": null,
      "visibility": null,
      "width": null
     }
    },
    "eec43a142d264862a86ff2b4a1d24137": {
     "model_module": "@jupyter-widgets/controls",
     "model_name": "DescriptionStyleModel",
     "state": {
      "_model_module": "@jupyter-widgets/controls",
      "_model_module_version": "1.5.0",
      "_model_name": "DescriptionStyleModel",
      "_view_count": null,
      "_view_module": "@jupyter-widgets/base",
      "_view_module_version": "1.2.0",
      "_view_name": "StyleView",
      "description_width": ""
     }
    },
    "f16d6497d26c4ebfbf53d930498271e6": {
     "model_module": "@jupyter-widgets/controls",
     "model_name": "HTMLModel",
     "state": {
      "_dom_classes": [],
      "_model_module": "@jupyter-widgets/controls",
      "_model_module_version": "1.5.0",
      "_model_name": "HTMLModel",
      "_view_count": null,
      "_view_module": "@jupyter-widgets/controls",
      "_view_module_version": "1.5.0",
      "_view_name": "HTMLView",
      "description": "",
      "description_tooltip": null,
      "layout": "IPY_MODEL_74a12e2c81224ba3b9b1cd616f3c8dd1",
      "placeholder": "​",
      "style": "IPY_MODEL_be1cae32eab04da5aa7f0a025af856de",
      "value": " 0/11 [00:12&lt;?, ?it/s]"
     }
    },
    "f3557ace921e4b138363f605024a3855": {
     "model_module": "@jupyter-widgets/controls",
     "model_name": "HBoxModel",
     "state": {
      "_dom_classes": [],
      "_model_module": "@jupyter-widgets/controls",
      "_model_module_version": "1.5.0",
      "_model_name": "HBoxModel",
      "_view_count": null,
      "_view_module": "@jupyter-widgets/controls",
      "_view_module_version": "1.5.0",
      "_view_name": "HBoxView",
      "box_style": "",
      "children": [
       "IPY_MODEL_3f4fc1efa11b4b2c9d2bbb10814fc74f",
       "IPY_MODEL_5c94675feee642c8a57498c2ff1adb52"
      ],
      "layout": "IPY_MODEL_58e249c1683943f5867370afa80f6f1e"
     }
    }
   }
  }
 },
 "nbformat": 4,
 "nbformat_minor": 4
}
